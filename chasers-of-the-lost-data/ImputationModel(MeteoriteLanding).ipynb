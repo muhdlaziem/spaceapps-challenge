{
 "cells": [
  {
   "cell_type": "code",
   "execution_count": 1,
   "metadata": {},
   "outputs": [],
   "source": [
    "import pandas as pd\n",
    "import numpy as np"
   ]
  },
  {
   "cell_type": "code",
   "execution_count": 2,
   "metadata": {},
   "outputs": [
    {
     "data": {
      "text/html": [
       "<div>\n",
       "<style scoped>\n",
       "    .dataframe tbody tr th:only-of-type {\n",
       "        vertical-align: middle;\n",
       "    }\n",
       "\n",
       "    .dataframe tbody tr th {\n",
       "        vertical-align: top;\n",
       "    }\n",
       "\n",
       "    .dataframe thead th {\n",
       "        text-align: right;\n",
       "    }\n",
       "</style>\n",
       "<table border=\"1\" class=\"dataframe\">\n",
       "  <thead>\n",
       "    <tr style=\"text-align: right;\">\n",
       "      <th></th>\n",
       "      <th>name</th>\n",
       "      <th>id</th>\n",
       "      <th>nametype</th>\n",
       "      <th>recclass</th>\n",
       "      <th>mass (g)</th>\n",
       "      <th>fall</th>\n",
       "      <th>year</th>\n",
       "      <th>reclat</th>\n",
       "      <th>reclong</th>\n",
       "      <th>GeoLocation</th>\n",
       "    </tr>\n",
       "  </thead>\n",
       "  <tbody>\n",
       "    <tr>\n",
       "      <td>0</td>\n",
       "      <td>Aachen</td>\n",
       "      <td>1</td>\n",
       "      <td>Valid</td>\n",
       "      <td>L5</td>\n",
       "      <td>21.0</td>\n",
       "      <td>Fell</td>\n",
       "      <td>01/01/1880 12:00:00 AM</td>\n",
       "      <td>50.77500</td>\n",
       "      <td>6.08333</td>\n",
       "      <td>(50.775, 6.08333)</td>\n",
       "    </tr>\n",
       "    <tr>\n",
       "      <td>1</td>\n",
       "      <td>Aarhus</td>\n",
       "      <td>2</td>\n",
       "      <td>Valid</td>\n",
       "      <td>H6</td>\n",
       "      <td>720.0</td>\n",
       "      <td>Fell</td>\n",
       "      <td>01/01/1951 12:00:00 AM</td>\n",
       "      <td>56.18333</td>\n",
       "      <td>10.23333</td>\n",
       "      <td>(56.18333, 10.23333)</td>\n",
       "    </tr>\n",
       "    <tr>\n",
       "      <td>2</td>\n",
       "      <td>Abee</td>\n",
       "      <td>6</td>\n",
       "      <td>Valid</td>\n",
       "      <td>EH4</td>\n",
       "      <td>107000.0</td>\n",
       "      <td>Fell</td>\n",
       "      <td>01/01/1952 12:00:00 AM</td>\n",
       "      <td>54.21667</td>\n",
       "      <td>-113.00000</td>\n",
       "      <td>(54.21667, -113.0)</td>\n",
       "    </tr>\n",
       "    <tr>\n",
       "      <td>3</td>\n",
       "      <td>Acapulco</td>\n",
       "      <td>10</td>\n",
       "      <td>Valid</td>\n",
       "      <td>Acapulcoite</td>\n",
       "      <td>1914.0</td>\n",
       "      <td>Fell</td>\n",
       "      <td>01/01/1976 12:00:00 AM</td>\n",
       "      <td>16.88333</td>\n",
       "      <td>-99.90000</td>\n",
       "      <td>(16.88333, -99.9)</td>\n",
       "    </tr>\n",
       "    <tr>\n",
       "      <td>4</td>\n",
       "      <td>Achiras</td>\n",
       "      <td>370</td>\n",
       "      <td>Valid</td>\n",
       "      <td>L6</td>\n",
       "      <td>780.0</td>\n",
       "      <td>Fell</td>\n",
       "      <td>01/01/1902 12:00:00 AM</td>\n",
       "      <td>-33.16667</td>\n",
       "      <td>-64.95000</td>\n",
       "      <td>(-33.16667, -64.95)</td>\n",
       "    </tr>\n",
       "    <tr>\n",
       "      <td>5</td>\n",
       "      <td>Adhi Kot</td>\n",
       "      <td>379</td>\n",
       "      <td>Valid</td>\n",
       "      <td>EH4</td>\n",
       "      <td>4239.0</td>\n",
       "      <td>Fell</td>\n",
       "      <td>01/01/1919 12:00:00 AM</td>\n",
       "      <td>32.10000</td>\n",
       "      <td>71.80000</td>\n",
       "      <td>(32.1, 71.8)</td>\n",
       "    </tr>\n",
       "    <tr>\n",
       "      <td>6</td>\n",
       "      <td>Adzhi-Bogdo (stone)</td>\n",
       "      <td>390</td>\n",
       "      <td>Valid</td>\n",
       "      <td>LL3-6</td>\n",
       "      <td>910.0</td>\n",
       "      <td>Fell</td>\n",
       "      <td>01/01/1949 12:00:00 AM</td>\n",
       "      <td>44.83333</td>\n",
       "      <td>95.16667</td>\n",
       "      <td>(44.83333, 95.16667)</td>\n",
       "    </tr>\n",
       "    <tr>\n",
       "      <td>7</td>\n",
       "      <td>Agen</td>\n",
       "      <td>392</td>\n",
       "      <td>Valid</td>\n",
       "      <td>H5</td>\n",
       "      <td>30000.0</td>\n",
       "      <td>Fell</td>\n",
       "      <td>01/01/1814 12:00:00 AM</td>\n",
       "      <td>44.21667</td>\n",
       "      <td>0.61667</td>\n",
       "      <td>(44.21667, 0.61667)</td>\n",
       "    </tr>\n",
       "    <tr>\n",
       "      <td>8</td>\n",
       "      <td>Aguada</td>\n",
       "      <td>398</td>\n",
       "      <td>Valid</td>\n",
       "      <td>L6</td>\n",
       "      <td>1620.0</td>\n",
       "      <td>Fell</td>\n",
       "      <td>01/01/1930 12:00:00 AM</td>\n",
       "      <td>-31.60000</td>\n",
       "      <td>-65.23333</td>\n",
       "      <td>(-31.6, -65.23333)</td>\n",
       "    </tr>\n",
       "    <tr>\n",
       "      <td>9</td>\n",
       "      <td>Aguila Blanca</td>\n",
       "      <td>417</td>\n",
       "      <td>Valid</td>\n",
       "      <td>L</td>\n",
       "      <td>1440.0</td>\n",
       "      <td>Fell</td>\n",
       "      <td>01/01/1920 12:00:00 AM</td>\n",
       "      <td>-30.86667</td>\n",
       "      <td>-64.55000</td>\n",
       "      <td>(-30.86667, -64.55)</td>\n",
       "    </tr>\n",
       "  </tbody>\n",
       "</table>\n",
       "</div>"
      ],
      "text/plain": [
       "                  name   id nametype     recclass  mass (g)  fall  \\\n",
       "0               Aachen    1    Valid           L5      21.0  Fell   \n",
       "1               Aarhus    2    Valid           H6     720.0  Fell   \n",
       "2                 Abee    6    Valid          EH4  107000.0  Fell   \n",
       "3             Acapulco   10    Valid  Acapulcoite    1914.0  Fell   \n",
       "4              Achiras  370    Valid           L6     780.0  Fell   \n",
       "5             Adhi Kot  379    Valid          EH4    4239.0  Fell   \n",
       "6  Adzhi-Bogdo (stone)  390    Valid        LL3-6     910.0  Fell   \n",
       "7                 Agen  392    Valid           H5   30000.0  Fell   \n",
       "8               Aguada  398    Valid           L6    1620.0  Fell   \n",
       "9        Aguila Blanca  417    Valid            L    1440.0  Fell   \n",
       "\n",
       "                     year    reclat    reclong           GeoLocation  \n",
       "0  01/01/1880 12:00:00 AM  50.77500    6.08333     (50.775, 6.08333)  \n",
       "1  01/01/1951 12:00:00 AM  56.18333   10.23333  (56.18333, 10.23333)  \n",
       "2  01/01/1952 12:00:00 AM  54.21667 -113.00000    (54.21667, -113.0)  \n",
       "3  01/01/1976 12:00:00 AM  16.88333  -99.90000     (16.88333, -99.9)  \n",
       "4  01/01/1902 12:00:00 AM -33.16667  -64.95000   (-33.16667, -64.95)  \n",
       "5  01/01/1919 12:00:00 AM  32.10000   71.80000          (32.1, 71.8)  \n",
       "6  01/01/1949 12:00:00 AM  44.83333   95.16667  (44.83333, 95.16667)  \n",
       "7  01/01/1814 12:00:00 AM  44.21667    0.61667   (44.21667, 0.61667)  \n",
       "8  01/01/1930 12:00:00 AM -31.60000  -65.23333    (-31.6, -65.23333)  \n",
       "9  01/01/1920 12:00:00 AM -30.86667  -64.55000   (-30.86667, -64.55)  "
      ]
     },
     "execution_count": 2,
     "metadata": {},
     "output_type": "execute_result"
    }
   ],
   "source": [
    "meteoriteLanding = pd.read_csv('../Datasets/Meteorite_Landings.csv')\n",
    "meteoriteLanding.head(10)"
   ]
  },
  {
   "cell_type": "code",
   "execution_count": 3,
   "metadata": {},
   "outputs": [
    {
     "name": "stdout",
     "output_type": "stream",
     "text": [
      "<class 'pandas.core.frame.DataFrame'>\n",
      "RangeIndex: 45716 entries, 0 to 45715\n",
      "Data columns (total 10 columns):\n",
      "name           45716 non-null object\n",
      "id             45716 non-null int64\n",
      "nametype       45716 non-null object\n",
      "recclass       45716 non-null object\n",
      "mass (g)       45585 non-null float64\n",
      "fall           45716 non-null object\n",
      "year           45425 non-null object\n",
      "reclat         38401 non-null float64\n",
      "reclong        38401 non-null float64\n",
      "GeoLocation    38401 non-null object\n",
      "dtypes: float64(3), int64(1), object(6)\n",
      "memory usage: 3.5+ MB\n"
     ]
    }
   ],
   "source": [
    "meteoriteLanding.info()"
   ]
  },
  {
   "cell_type": "markdown",
   "metadata": {},
   "source": [
    "# Need to format the data first\n"
   ]
  },
  {
   "cell_type": "code",
   "execution_count": 4,
   "metadata": {
    "scrolled": true
   },
   "outputs": [
    {
     "name": "stdout",
     "output_type": "stream",
     "text": [
      "<class 'pandas.core.frame.DataFrame'>\n",
      "Int64Index: 38115 entries, 0 to 45715\n",
      "Data columns (total 10 columns):\n",
      "name           38115 non-null object\n",
      "id             38115 non-null int64\n",
      "nametype       38115 non-null object\n",
      "recclass       38115 non-null object\n",
      "mass (g)       38115 non-null float64\n",
      "fall           38115 non-null object\n",
      "year           38115 non-null object\n",
      "reclat         38115 non-null float64\n",
      "reclong        38115 non-null float64\n",
      "GeoLocation    38115 non-null object\n",
      "dtypes: float64(3), int64(1), object(6)\n",
      "memory usage: 3.2+ MB\n"
     ]
    }
   ],
   "source": [
    "# import nltk\n",
    "NoNa = meteoriteLanding.dropna(axis=0,how='any')\n",
    "NoNa.info()"
   ]
  },
  {
   "cell_type": "markdown",
   "metadata": {},
   "source": [
    "### Seperate GeoLocation into X and Y (Lol wasted, i didnt notice reclat and reclong)"
   ]
  },
  {
   "cell_type": "code",
   "execution_count": 5,
   "metadata": {
    "scrolled": true
   },
   "outputs": [],
   "source": [
    "# tokenizedGeoLocation= NoNa.apply(lambda row: nltk.word_tokenize(row['GeoLocation']), axis=1)\n",
    "# X=[]\n",
    "# Y=[]\n",
    "# for index in tokenizedGeoLocation:\n",
    "#    X.append(float(index[1]))\n",
    "#    Y.append(float(index[3]))\n",
    "# NoNa['X'] = X\n",
    "# NoNa['Y'] = Y"
   ]
  },
  {
   "cell_type": "markdown",
   "metadata": {},
   "source": [
    "### Convert year to timestamp"
   ]
  },
  {
   "cell_type": "code",
   "execution_count": 6,
   "metadata": {},
   "outputs": [],
   "source": [
    "import datetime"
   ]
  },
  {
   "cell_type": "code",
   "execution_count": 7,
   "metadata": {},
   "outputs": [
    {
     "data": {
      "text/plain": [
       "0        01/01/1880 12:00:00 AM\n",
       "1        01/01/1951 12:00:00 AM\n",
       "2        01/01/1952 12:00:00 AM\n",
       "3        01/01/1976 12:00:00 AM\n",
       "4        01/01/1902 12:00:00 AM\n",
       "                  ...          \n",
       "45711    01/01/1990 12:00:00 AM\n",
       "45712    01/01/1999 12:00:00 AM\n",
       "45713    01/01/1939 12:00:00 AM\n",
       "45714    01/01/2003 12:00:00 AM\n",
       "45715    01/01/1976 12:00:00 AM\n",
       "Name: year, Length: 38115, dtype: object"
      ]
     },
     "execution_count": 7,
     "metadata": {},
     "output_type": "execute_result"
    }
   ],
   "source": [
    "year = NoNa['year']\n",
    "year"
   ]
  },
  {
   "cell_type": "code",
   "execution_count": 8,
   "metadata": {},
   "outputs": [],
   "source": [
    "timestamp=[]\n",
    "for i in year:\n",
    "    dateTime = datetime.datetime.strptime(i[:10], '%m/%d/%Y')\n",
    "    timestamp.append(dateTime.timestamp())"
   ]
  },
  {
   "cell_type": "code",
   "execution_count": 9,
   "metadata": {},
   "outputs": [
    {
     "name": "stderr",
     "output_type": "stream",
     "text": [
      "/home/muhdlaziem/.local/lib/python3.6/site-packages/ipykernel_launcher.py:1: SettingWithCopyWarning: \n",
      "A value is trying to be set on a copy of a slice from a DataFrame.\n",
      "Try using .loc[row_indexer,col_indexer] = value instead\n",
      "\n",
      "See the caveats in the documentation: http://pandas.pydata.org/pandas-docs/stable/user_guide/indexing.html#returning-a-view-versus-a-copy\n",
      "  \"\"\"Entry point for launching an IPython kernel.\n"
     ]
    }
   ],
   "source": [
    "NoNa['Timestamp'] = timestamp"
   ]
  },
  {
   "cell_type": "code",
   "execution_count": 10,
   "metadata": {
    "scrolled": true
   },
   "outputs": [
    {
     "data": {
      "text/html": [
       "<div>\n",
       "<style scoped>\n",
       "    .dataframe tbody tr th:only-of-type {\n",
       "        vertical-align: middle;\n",
       "    }\n",
       "\n",
       "    .dataframe tbody tr th {\n",
       "        vertical-align: top;\n",
       "    }\n",
       "\n",
       "    .dataframe thead th {\n",
       "        text-align: right;\n",
       "    }\n",
       "</style>\n",
       "<table border=\"1\" class=\"dataframe\">\n",
       "  <thead>\n",
       "    <tr style=\"text-align: right;\">\n",
       "      <th></th>\n",
       "      <th>name</th>\n",
       "      <th>id</th>\n",
       "      <th>nametype</th>\n",
       "      <th>recclass</th>\n",
       "      <th>mass (g)</th>\n",
       "      <th>fall</th>\n",
       "      <th>year</th>\n",
       "      <th>reclat</th>\n",
       "      <th>reclong</th>\n",
       "      <th>GeoLocation</th>\n",
       "      <th>Timestamp</th>\n",
       "    </tr>\n",
       "  </thead>\n",
       "  <tbody>\n",
       "    <tr>\n",
       "      <td>0</td>\n",
       "      <td>Aachen</td>\n",
       "      <td>1</td>\n",
       "      <td>Valid</td>\n",
       "      <td>L5</td>\n",
       "      <td>21.0</td>\n",
       "      <td>Fell</td>\n",
       "      <td>01/01/1880 12:00:00 AM</td>\n",
       "      <td>50.77500</td>\n",
       "      <td>6.08333</td>\n",
       "      <td>(50.775, 6.08333)</td>\n",
       "      <td>-2.840165e+09</td>\n",
       "    </tr>\n",
       "    <tr>\n",
       "      <td>1</td>\n",
       "      <td>Aarhus</td>\n",
       "      <td>2</td>\n",
       "      <td>Valid</td>\n",
       "      <td>H6</td>\n",
       "      <td>720.0</td>\n",
       "      <td>Fell</td>\n",
       "      <td>01/01/1951 12:00:00 AM</td>\n",
       "      <td>56.18333</td>\n",
       "      <td>10.23333</td>\n",
       "      <td>(56.18333, 10.23333)</td>\n",
       "      <td>-5.996430e+08</td>\n",
       "    </tr>\n",
       "    <tr>\n",
       "      <td>2</td>\n",
       "      <td>Abee</td>\n",
       "      <td>6</td>\n",
       "      <td>Valid</td>\n",
       "      <td>EH4</td>\n",
       "      <td>107000.0</td>\n",
       "      <td>Fell</td>\n",
       "      <td>01/01/1952 12:00:00 AM</td>\n",
       "      <td>54.21667</td>\n",
       "      <td>-113.00000</td>\n",
       "      <td>(54.21667, -113.0)</td>\n",
       "      <td>-5.681070e+08</td>\n",
       "    </tr>\n",
       "    <tr>\n",
       "      <td>3</td>\n",
       "      <td>Acapulco</td>\n",
       "      <td>10</td>\n",
       "      <td>Valid</td>\n",
       "      <td>Acapulcoite</td>\n",
       "      <td>1914.0</td>\n",
       "      <td>Fell</td>\n",
       "      <td>01/01/1976 12:00:00 AM</td>\n",
       "      <td>16.88333</td>\n",
       "      <td>-99.90000</td>\n",
       "      <td>(16.88333, -99.9)</td>\n",
       "      <td>1.892754e+08</td>\n",
       "    </tr>\n",
       "    <tr>\n",
       "      <td>4</td>\n",
       "      <td>Achiras</td>\n",
       "      <td>370</td>\n",
       "      <td>Valid</td>\n",
       "      <td>L6</td>\n",
       "      <td>780.0</td>\n",
       "      <td>Fell</td>\n",
       "      <td>01/01/1902 12:00:00 AM</td>\n",
       "      <td>-33.16667</td>\n",
       "      <td>-64.95000</td>\n",
       "      <td>(-33.16667, -64.95)</td>\n",
       "      <td>-2.145942e+09</td>\n",
       "    </tr>\n",
       "    <tr>\n",
       "      <td>5</td>\n",
       "      <td>Adhi Kot</td>\n",
       "      <td>379</td>\n",
       "      <td>Valid</td>\n",
       "      <td>EH4</td>\n",
       "      <td>4239.0</td>\n",
       "      <td>Fell</td>\n",
       "      <td>01/01/1919 12:00:00 AM</td>\n",
       "      <td>32.10000</td>\n",
       "      <td>71.80000</td>\n",
       "      <td>(32.1, 71.8)</td>\n",
       "      <td>-1.609484e+09</td>\n",
       "    </tr>\n",
       "    <tr>\n",
       "      <td>6</td>\n",
       "      <td>Adzhi-Bogdo (stone)</td>\n",
       "      <td>390</td>\n",
       "      <td>Valid</td>\n",
       "      <td>LL3-6</td>\n",
       "      <td>910.0</td>\n",
       "      <td>Fell</td>\n",
       "      <td>01/01/1949 12:00:00 AM</td>\n",
       "      <td>44.83333</td>\n",
       "      <td>95.16667</td>\n",
       "      <td>(44.83333, 95.16667)</td>\n",
       "      <td>-6.627150e+08</td>\n",
       "    </tr>\n",
       "    <tr>\n",
       "      <td>7</td>\n",
       "      <td>Agen</td>\n",
       "      <td>392</td>\n",
       "      <td>Valid</td>\n",
       "      <td>H5</td>\n",
       "      <td>30000.0</td>\n",
       "      <td>Fell</td>\n",
       "      <td>01/01/1814 12:00:00 AM</td>\n",
       "      <td>44.21667</td>\n",
       "      <td>0.61667</td>\n",
       "      <td>(44.21667, 0.61667)</td>\n",
       "      <td>-4.922924e+09</td>\n",
       "    </tr>\n",
       "    <tr>\n",
       "      <td>8</td>\n",
       "      <td>Aguada</td>\n",
       "      <td>398</td>\n",
       "      <td>Valid</td>\n",
       "      <td>L6</td>\n",
       "      <td>1620.0</td>\n",
       "      <td>Fell</td>\n",
       "      <td>01/01/1930 12:00:00 AM</td>\n",
       "      <td>-31.60000</td>\n",
       "      <td>-65.23333</td>\n",
       "      <td>(-31.6, -65.23333)</td>\n",
       "      <td>-1.262329e+09</td>\n",
       "    </tr>\n",
       "    <tr>\n",
       "      <td>9</td>\n",
       "      <td>Aguila Blanca</td>\n",
       "      <td>417</td>\n",
       "      <td>Valid</td>\n",
       "      <td>L</td>\n",
       "      <td>1440.0</td>\n",
       "      <td>Fell</td>\n",
       "      <td>01/01/1920 12:00:00 AM</td>\n",
       "      <td>-30.86667</td>\n",
       "      <td>-64.55000</td>\n",
       "      <td>(-30.86667, -64.55)</td>\n",
       "      <td>-1.577948e+09</td>\n",
       "    </tr>\n",
       "  </tbody>\n",
       "</table>\n",
       "</div>"
      ],
      "text/plain": [
       "                  name   id nametype     recclass  mass (g)  fall  \\\n",
       "0               Aachen    1    Valid           L5      21.0  Fell   \n",
       "1               Aarhus    2    Valid           H6     720.0  Fell   \n",
       "2                 Abee    6    Valid          EH4  107000.0  Fell   \n",
       "3             Acapulco   10    Valid  Acapulcoite    1914.0  Fell   \n",
       "4              Achiras  370    Valid           L6     780.0  Fell   \n",
       "5             Adhi Kot  379    Valid          EH4    4239.0  Fell   \n",
       "6  Adzhi-Bogdo (stone)  390    Valid        LL3-6     910.0  Fell   \n",
       "7                 Agen  392    Valid           H5   30000.0  Fell   \n",
       "8               Aguada  398    Valid           L6    1620.0  Fell   \n",
       "9        Aguila Blanca  417    Valid            L    1440.0  Fell   \n",
       "\n",
       "                     year    reclat    reclong           GeoLocation  \\\n",
       "0  01/01/1880 12:00:00 AM  50.77500    6.08333     (50.775, 6.08333)   \n",
       "1  01/01/1951 12:00:00 AM  56.18333   10.23333  (56.18333, 10.23333)   \n",
       "2  01/01/1952 12:00:00 AM  54.21667 -113.00000    (54.21667, -113.0)   \n",
       "3  01/01/1976 12:00:00 AM  16.88333  -99.90000     (16.88333, -99.9)   \n",
       "4  01/01/1902 12:00:00 AM -33.16667  -64.95000   (-33.16667, -64.95)   \n",
       "5  01/01/1919 12:00:00 AM  32.10000   71.80000          (32.1, 71.8)   \n",
       "6  01/01/1949 12:00:00 AM  44.83333   95.16667  (44.83333, 95.16667)   \n",
       "7  01/01/1814 12:00:00 AM  44.21667    0.61667   (44.21667, 0.61667)   \n",
       "8  01/01/1930 12:00:00 AM -31.60000  -65.23333    (-31.6, -65.23333)   \n",
       "9  01/01/1920 12:00:00 AM -30.86667  -64.55000   (-30.86667, -64.55)   \n",
       "\n",
       "      Timestamp  \n",
       "0 -2.840165e+09  \n",
       "1 -5.996430e+08  \n",
       "2 -5.681070e+08  \n",
       "3  1.892754e+08  \n",
       "4 -2.145942e+09  \n",
       "5 -1.609484e+09  \n",
       "6 -6.627150e+08  \n",
       "7 -4.922924e+09  \n",
       "8 -1.262329e+09  \n",
       "9 -1.577948e+09  "
      ]
     },
     "execution_count": 10,
     "metadata": {},
     "output_type": "execute_result"
    }
   ],
   "source": [
    "NoNa.head(10)"
   ]
  },
  {
   "cell_type": "code",
   "execution_count": 11,
   "metadata": {},
   "outputs": [
    {
     "data": {
      "text/plain": [
       "Found    37050\n",
       "Fell      1065\n",
       "Name: fall, dtype: int64"
      ]
     },
     "execution_count": 11,
     "metadata": {},
     "output_type": "execute_result"
    }
   ],
   "source": [
    "NoNa['fall'].value_counts()"
   ]
  },
  {
   "cell_type": "code",
   "execution_count": 12,
   "metadata": {},
   "outputs": [],
   "source": [
    "NoNa = NoNa.replace({'Found':1})\n",
    "NoNa = NoNa.replace({'Fell':0})"
   ]
  },
  {
   "cell_type": "code",
   "execution_count": 13,
   "metadata": {},
   "outputs": [
    {
     "data": {
      "text/plain": [
       "1    37050\n",
       "0     1065\n",
       "Name: fall, dtype: int64"
      ]
     },
     "execution_count": 13,
     "metadata": {},
     "output_type": "execute_result"
    }
   ],
   "source": [
    "NoNa['fall'].value_counts()"
   ]
  },
  {
   "cell_type": "code",
   "execution_count": 14,
   "metadata": {
    "scrolled": true
   },
   "outputs": [
    {
     "data": {
      "text/plain": [
       "L6                   7519\n",
       "H5                   6243\n",
       "H6                   3898\n",
       "H4                   3880\n",
       "L5                   3264\n",
       "                     ... \n",
       "H(L)3-an                1\n",
       "L3.10                   1\n",
       "L(LL)3.5-3.7            1\n",
       "Iron, IAB-sHL-an        1\n",
       "Mesosiderite-A3/4       1\n",
       "Name: recclass, Length: 422, dtype: int64"
      ]
     },
     "execution_count": 14,
     "metadata": {},
     "output_type": "execute_result"
    }
   ],
   "source": [
    "NoNa['recclass'].value_counts() #what to do with this?"
   ]
  },
  {
   "cell_type": "markdown",
   "metadata": {},
   "source": [
    "### since recclass is non-continous attribute with multiple class, we ignore this first"
   ]
  },
  {
   "cell_type": "code",
   "execution_count": 15,
   "metadata": {},
   "outputs": [
    {
     "data": {
      "text/plain": [
       "Valid     38094\n",
       "Relict       21\n",
       "Name: nametype, dtype: int64"
      ]
     },
     "execution_count": 15,
     "metadata": {},
     "output_type": "execute_result"
    }
   ],
   "source": [
    "NoNa['nametype'].value_counts()"
   ]
  },
  {
   "cell_type": "code",
   "execution_count": 16,
   "metadata": {},
   "outputs": [],
   "source": [
    "NoNa = NoNa.replace({'Valid':1})\n",
    "NoNa = NoNa.replace({'Relict':0})"
   ]
  },
  {
   "cell_type": "code",
   "execution_count": 17,
   "metadata": {
    "scrolled": true
   },
   "outputs": [
    {
     "name": "stdout",
     "output_type": "stream",
     "text": [
      "<class 'pandas.core.frame.DataFrame'>\n",
      "Int64Index: 38115 entries, 0 to 45715\n",
      "Data columns (total 7 columns):\n",
      "nametype     38115 non-null int64\n",
      "recclass     38115 non-null object\n",
      "mass (g)     38115 non-null float64\n",
      "fall         38115 non-null int64\n",
      "reclat       38115 non-null float64\n",
      "reclong      38115 non-null float64\n",
      "Timestamp    38115 non-null float64\n",
      "dtypes: float64(4), int64(2), object(1)\n",
      "memory usage: 2.3+ MB\n"
     ]
    }
   ],
   "source": [
    "ContinuosCategorical = NoNa.drop([\"name\",\"id\",\"GeoLocation\",\"year\"],axis='columns')\n",
    "ContinuosCategorical.info()"
   ]
  },
  {
   "cell_type": "code",
   "execution_count": 18,
   "metadata": {
    "scrolled": true
   },
   "outputs": [
    {
     "data": {
      "text/html": [
       "<div>\n",
       "<style scoped>\n",
       "    .dataframe tbody tr th:only-of-type {\n",
       "        vertical-align: middle;\n",
       "    }\n",
       "\n",
       "    .dataframe tbody tr th {\n",
       "        vertical-align: top;\n",
       "    }\n",
       "\n",
       "    .dataframe thead th {\n",
       "        text-align: right;\n",
       "    }\n",
       "</style>\n",
       "<table border=\"1\" class=\"dataframe\">\n",
       "  <thead>\n",
       "    <tr style=\"text-align: right;\">\n",
       "      <th></th>\n",
       "      <th>nametype</th>\n",
       "      <th>mass (g)</th>\n",
       "      <th>fall</th>\n",
       "      <th>reclat</th>\n",
       "      <th>reclong</th>\n",
       "      <th>Timestamp</th>\n",
       "    </tr>\n",
       "  </thead>\n",
       "  <tbody>\n",
       "    <tr>\n",
       "      <td>nametype</td>\n",
       "      <td>1.000000</td>\n",
       "      <td>0.000583</td>\n",
       "      <td>-0.003981</td>\n",
       "      <td>-0.038156</td>\n",
       "      <td>0.006080</td>\n",
       "      <td>-0.013089</td>\n",
       "    </tr>\n",
       "    <tr>\n",
       "      <td>mass (g)</td>\n",
       "      <td>0.000583</td>\n",
       "      <td>1.000000</td>\n",
       "      <td>-0.008604</td>\n",
       "      <td>0.029235</td>\n",
       "      <td>-0.021854</td>\n",
       "      <td>-0.121840</td>\n",
       "    </tr>\n",
       "    <tr>\n",
       "      <td>fall</td>\n",
       "      <td>-0.003981</td>\n",
       "      <td>-0.008604</td>\n",
       "      <td>1.000000</td>\n",
       "      <td>-0.255963</td>\n",
       "      <td>0.086060</td>\n",
       "      <td>0.505945</td>\n",
       "    </tr>\n",
       "    <tr>\n",
       "      <td>reclat</td>\n",
       "      <td>-0.038156</td>\n",
       "      <td>0.029235</td>\n",
       "      <td>-0.255963</td>\n",
       "      <td>1.000000</td>\n",
       "      <td>-0.593234</td>\n",
       "      <td>-0.104979</td>\n",
       "    </tr>\n",
       "    <tr>\n",
       "      <td>reclong</td>\n",
       "      <td>0.006080</td>\n",
       "      <td>-0.021854</td>\n",
       "      <td>0.086060</td>\n",
       "      <td>-0.593234</td>\n",
       "      <td>1.000000</td>\n",
       "      <td>0.090260</td>\n",
       "    </tr>\n",
       "    <tr>\n",
       "      <td>Timestamp</td>\n",
       "      <td>-0.013089</td>\n",
       "      <td>-0.121840</td>\n",
       "      <td>0.505945</td>\n",
       "      <td>-0.104979</td>\n",
       "      <td>0.090260</td>\n",
       "      <td>1.000000</td>\n",
       "    </tr>\n",
       "  </tbody>\n",
       "</table>\n",
       "</div>"
      ],
      "text/plain": [
       "           nametype  mass (g)      fall    reclat   reclong  Timestamp\n",
       "nametype   1.000000  0.000583 -0.003981 -0.038156  0.006080  -0.013089\n",
       "mass (g)   0.000583  1.000000 -0.008604  0.029235 -0.021854  -0.121840\n",
       "fall      -0.003981 -0.008604  1.000000 -0.255963  0.086060   0.505945\n",
       "reclat    -0.038156  0.029235 -0.255963  1.000000 -0.593234  -0.104979\n",
       "reclong    0.006080 -0.021854  0.086060 -0.593234  1.000000   0.090260\n",
       "Timestamp -0.013089 -0.121840  0.505945 -0.104979  0.090260   1.000000"
      ]
     },
     "execution_count": 18,
     "metadata": {},
     "output_type": "execute_result"
    }
   ],
   "source": [
    "ContinuosCategorical.corr()"
   ]
  },
  {
   "cell_type": "code",
   "execution_count": 19,
   "metadata": {},
   "outputs": [
    {
     "ename": "ValueError",
     "evalue": "could not convert string to float: 'L5'",
     "output_type": "error",
     "traceback": [
      "\u001b[0;31m---------------------------------------------------------------------------\u001b[0m",
      "\u001b[0;31mValueError\u001b[0m                                Traceback (most recent call last)",
      "\u001b[0;32m<ipython-input-19-28cf12c6fff9>\u001b[0m in \u001b[0;36m<module>\u001b[0;34m\u001b[0m\n\u001b[1;32m      6\u001b[0m \u001b[0;34m\u001b[0m\u001b[0m\n\u001b[1;32m      7\u001b[0m \u001b[0mbestFeatures\u001b[0m \u001b[0;34m=\u001b[0m \u001b[0mSelectKBest\u001b[0m\u001b[0;34m(\u001b[0m\u001b[0mscore_func\u001b[0m\u001b[0;34m=\u001b[0m\u001b[0mchi2\u001b[0m\u001b[0;34m,\u001b[0m \u001b[0mk\u001b[0m\u001b[0;34m=\u001b[0m\u001b[0;36m3\u001b[0m\u001b[0;34m)\u001b[0m\u001b[0;34m\u001b[0m\u001b[0;34m\u001b[0m\u001b[0m\n\u001b[0;32m----> 8\u001b[0;31m \u001b[0mfit\u001b[0m \u001b[0;34m=\u001b[0m \u001b[0mbestFeatures\u001b[0m\u001b[0;34m.\u001b[0m\u001b[0mfit\u001b[0m\u001b[0;34m(\u001b[0m\u001b[0mX\u001b[0m\u001b[0;34m,\u001b[0m\u001b[0mY\u001b[0m\u001b[0;34m)\u001b[0m\u001b[0;34m\u001b[0m\u001b[0;34m\u001b[0m\u001b[0m\n\u001b[0m\u001b[1;32m      9\u001b[0m \u001b[0mdfScores\u001b[0m \u001b[0;34m=\u001b[0m \u001b[0mpd\u001b[0m\u001b[0;34m.\u001b[0m\u001b[0mDataFrame\u001b[0m\u001b[0;34m(\u001b[0m\u001b[0mfit\u001b[0m\u001b[0;34m.\u001b[0m\u001b[0mscores_\u001b[0m\u001b[0;34m)\u001b[0m\u001b[0;34m\u001b[0m\u001b[0;34m\u001b[0m\u001b[0m\n\u001b[1;32m     10\u001b[0m \u001b[0mdfColumns\u001b[0m \u001b[0;34m=\u001b[0m \u001b[0mpd\u001b[0m\u001b[0;34m.\u001b[0m\u001b[0mDataFrame\u001b[0m\u001b[0;34m(\u001b[0m\u001b[0mX\u001b[0m\u001b[0;34m.\u001b[0m\u001b[0mcolumns\u001b[0m\u001b[0;34m)\u001b[0m\u001b[0;34m\u001b[0m\u001b[0;34m\u001b[0m\u001b[0m\n",
      "\u001b[0;32m~/.local/lib/python3.6/site-packages/sklearn/feature_selection/univariate_selection.py\u001b[0m in \u001b[0;36mfit\u001b[0;34m(self, X, y)\u001b[0m\n\u001b[1;32m    339\u001b[0m         \u001b[0mself\u001b[0m \u001b[0;34m:\u001b[0m \u001b[0mobject\u001b[0m\u001b[0;34m\u001b[0m\u001b[0;34m\u001b[0m\u001b[0m\n\u001b[1;32m    340\u001b[0m         \"\"\"\n\u001b[0;32m--> 341\u001b[0;31m         \u001b[0mX\u001b[0m\u001b[0;34m,\u001b[0m \u001b[0my\u001b[0m \u001b[0;34m=\u001b[0m \u001b[0mcheck_X_y\u001b[0m\u001b[0;34m(\u001b[0m\u001b[0mX\u001b[0m\u001b[0;34m,\u001b[0m \u001b[0my\u001b[0m\u001b[0;34m,\u001b[0m \u001b[0;34m[\u001b[0m\u001b[0;34m'csr'\u001b[0m\u001b[0;34m,\u001b[0m \u001b[0;34m'csc'\u001b[0m\u001b[0;34m]\u001b[0m\u001b[0;34m,\u001b[0m \u001b[0mmulti_output\u001b[0m\u001b[0;34m=\u001b[0m\u001b[0;32mTrue\u001b[0m\u001b[0;34m)\u001b[0m\u001b[0;34m\u001b[0m\u001b[0;34m\u001b[0m\u001b[0m\n\u001b[0m\u001b[1;32m    342\u001b[0m \u001b[0;34m\u001b[0m\u001b[0m\n\u001b[1;32m    343\u001b[0m         \u001b[0;32mif\u001b[0m \u001b[0;32mnot\u001b[0m \u001b[0mcallable\u001b[0m\u001b[0;34m(\u001b[0m\u001b[0mself\u001b[0m\u001b[0;34m.\u001b[0m\u001b[0mscore_func\u001b[0m\u001b[0;34m)\u001b[0m\u001b[0;34m:\u001b[0m\u001b[0;34m\u001b[0m\u001b[0;34m\u001b[0m\u001b[0m\n",
      "\u001b[0;32m~/.local/lib/python3.6/site-packages/sklearn/utils/validation.py\u001b[0m in \u001b[0;36mcheck_X_y\u001b[0;34m(X, y, accept_sparse, accept_large_sparse, dtype, order, copy, force_all_finite, ensure_2d, allow_nd, multi_output, ensure_min_samples, ensure_min_features, y_numeric, warn_on_dtype, estimator)\u001b[0m\n\u001b[1;32m    717\u001b[0m                     \u001b[0mensure_min_features\u001b[0m\u001b[0;34m=\u001b[0m\u001b[0mensure_min_features\u001b[0m\u001b[0;34m,\u001b[0m\u001b[0;34m\u001b[0m\u001b[0;34m\u001b[0m\u001b[0m\n\u001b[1;32m    718\u001b[0m                     \u001b[0mwarn_on_dtype\u001b[0m\u001b[0;34m=\u001b[0m\u001b[0mwarn_on_dtype\u001b[0m\u001b[0;34m,\u001b[0m\u001b[0;34m\u001b[0m\u001b[0;34m\u001b[0m\u001b[0m\n\u001b[0;32m--> 719\u001b[0;31m                     estimator=estimator)\n\u001b[0m\u001b[1;32m    720\u001b[0m     \u001b[0;32mif\u001b[0m \u001b[0mmulti_output\u001b[0m\u001b[0;34m:\u001b[0m\u001b[0;34m\u001b[0m\u001b[0;34m\u001b[0m\u001b[0m\n\u001b[1;32m    721\u001b[0m         y = check_array(y, 'csr', force_all_finite=True, ensure_2d=False,\n",
      "\u001b[0;32m~/.local/lib/python3.6/site-packages/sklearn/utils/validation.py\u001b[0m in \u001b[0;36mcheck_array\u001b[0;34m(array, accept_sparse, accept_large_sparse, dtype, order, copy, force_all_finite, ensure_2d, allow_nd, ensure_min_samples, ensure_min_features, warn_on_dtype, estimator)\u001b[0m\n\u001b[1;32m    534\u001b[0m         \u001b[0;31m# make sure we actually converted to numeric:\u001b[0m\u001b[0;34m\u001b[0m\u001b[0;34m\u001b[0m\u001b[0;34m\u001b[0m\u001b[0m\n\u001b[1;32m    535\u001b[0m         \u001b[0;32mif\u001b[0m \u001b[0mdtype_numeric\u001b[0m \u001b[0;32mand\u001b[0m \u001b[0marray\u001b[0m\u001b[0;34m.\u001b[0m\u001b[0mdtype\u001b[0m\u001b[0;34m.\u001b[0m\u001b[0mkind\u001b[0m \u001b[0;34m==\u001b[0m \u001b[0;34m\"O\"\u001b[0m\u001b[0;34m:\u001b[0m\u001b[0;34m\u001b[0m\u001b[0;34m\u001b[0m\u001b[0m\n\u001b[0;32m--> 536\u001b[0;31m             \u001b[0marray\u001b[0m \u001b[0;34m=\u001b[0m \u001b[0marray\u001b[0m\u001b[0;34m.\u001b[0m\u001b[0mastype\u001b[0m\u001b[0;34m(\u001b[0m\u001b[0mnp\u001b[0m\u001b[0;34m.\u001b[0m\u001b[0mfloat64\u001b[0m\u001b[0;34m)\u001b[0m\u001b[0;34m\u001b[0m\u001b[0;34m\u001b[0m\u001b[0m\n\u001b[0m\u001b[1;32m    537\u001b[0m         \u001b[0;32mif\u001b[0m \u001b[0;32mnot\u001b[0m \u001b[0mallow_nd\u001b[0m \u001b[0;32mand\u001b[0m \u001b[0marray\u001b[0m\u001b[0;34m.\u001b[0m\u001b[0mndim\u001b[0m \u001b[0;34m>=\u001b[0m \u001b[0;36m3\u001b[0m\u001b[0;34m:\u001b[0m\u001b[0;34m\u001b[0m\u001b[0;34m\u001b[0m\u001b[0m\n\u001b[1;32m    538\u001b[0m             raise ValueError(\"Found array with dim %d. %s expected <= 2.\"\n",
      "\u001b[0;31mValueError\u001b[0m: could not convert string to float: 'L5'"
     ]
    }
   ],
   "source": [
    "from sklearn.feature_selection import SelectKBest\n",
    "from sklearn.feature_selection import chi2\n",
    "\n",
    "X = ContinuosCategorical.iloc[:,0:3]\n",
    "Y =  ContinuosCategorical.iloc[:,-1]\n",
    "\n",
    "bestFeatures = SelectKBest(score_func=chi2, k=3)\n",
    "fit = bestFeatures.fit(X,Y)\n",
    "dfScores = pd.DataFrame(fit.scores_)\n",
    "dfColumns = pd.DataFrame(X.columns)\n",
    "\n",
    "featureScores = pd.concat([dfColumns,dfScores],axis=1)\n",
    "featureScores.columns = ['Specs','Score']\n",
    "print(featureScores.nlargest(10,'Score'))"
   ]
  },
  {
   "cell_type": "markdown",
   "metadata": {},
   "source": [
    "### From my understanding only fall and timestamp have above 0.5 correlation and others doesnt much correlated to each other"
   ]
  },
  {
   "cell_type": "code",
   "execution_count": null,
   "metadata": {},
   "outputs": [],
   "source": [
    "dateTime = datetime.datetime.strptime('10/19/2019', '%m/%d/%Y')\n",
    "dateTime.timestamp()"
   ]
  },
  {
   "cell_type": "code",
   "execution_count": null,
   "metadata": {},
   "outputs": [],
   "source": []
  }
 ],
 "metadata": {
  "file_extension": ".py",
  "kernelspec": {
   "display_name": "Python 3",
   "language": "python",
   "name": "python3"
  },
  "language_info": {
   "codemirror_mode": {
    "name": "ipython",
    "version": 3
   },
   "file_extension": ".py",
   "mimetype": "text/x-python",
   "name": "python",
   "nbconvert_exporter": "python",
   "pygments_lexer": "ipython3",
   "version": "3.6.8"
  },
  "mimetype": "text/x-python",
  "name": "python",
  "npconvert_exporter": "python",
  "pygments_lexer": "ipython3",
  "version": 3
 },
 "nbformat": 4,
 "nbformat_minor": 2
}
