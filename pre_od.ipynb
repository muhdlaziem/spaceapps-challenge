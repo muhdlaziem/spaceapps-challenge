{
 "cells": [
  {
   "cell_type": "code",
   "execution_count": 1,
   "metadata": {},
   "outputs": [],
   "source": [
    "import numpy as np \n",
    "import pandas as pd \n",
    "import seaborn as sns\n",
    "import matplotlib.pyplot as plt\n",
    "from sklearn.metrics import r2_score\n",
    "from sklearn.impute import SimpleImputer \n",
    "from sklearn.preprocessing import StandardScaler\n",
    "from sklearn.model_selection import train_test_split\n",
    "from sklearn.preprocessing import PolynomialFeatures\n",
    "from sklearn.preprocessing import LabelEncoder, OneHotEncoder"
   ]
  },
  {
   "cell_type": "code",
   "execution_count": 2,
   "metadata": {},
   "outputs": [],
   "source": [
    "df = pd.read_csv('od.csv')"
   ]
  },
  {
   "cell_type": "code",
   "execution_count": 3,
   "metadata": {},
   "outputs": [
    {
     "data": {
      "text/html": [
       "<div>\n",
       "<style scoped>\n",
       "    .dataframe tbody tr th:only-of-type {\n",
       "        vertical-align: middle;\n",
       "    }\n",
       "\n",
       "    .dataframe tbody tr th {\n",
       "        vertical-align: top;\n",
       "    }\n",
       "\n",
       "    .dataframe thead th {\n",
       "        text-align: right;\n",
       "    }\n",
       "</style>\n",
       "<table border=\"1\" class=\"dataframe\">\n",
       "  <thead>\n",
       "    <tr style=\"text-align: right;\">\n",
       "      <th></th>\n",
       "      <th>Sample Material</th>\n",
       "      <th>ID</th>\n",
       "      <th>MFR</th>\n",
       "      <th>TML</th>\n",
       "      <th>Category</th>\n",
       "      <th>CVCM</th>\n",
       "      <th>Space Code</th>\n",
       "      <th>WVR</th>\n",
       "      <th>Material Usage</th>\n",
       "      <th>Cure</th>\n",
       "    </tr>\n",
       "  </thead>\n",
       "  <tbody>\n",
       "    <tr>\n",
       "      <th>0</th>\n",
       "      <td>\"V\" MATERIAL IN CLICKBOND CB4023V, GLASS/PEI -...</td>\n",
       "      <td>GSC33214</td>\n",
       "      <td>CLB</td>\n",
       "      <td>0.37</td>\n",
       "      <td>12</td>\n",
       "      <td>0.00</td>\n",
       "      <td>1.0</td>\n",
       "      <td>0.35</td>\n",
       "      <td>CLICKBOND</td>\n",
       "      <td>NaN</td>\n",
       "    </tr>\n",
       "    <tr>\n",
       "      <th>1</th>\n",
       "      <td>\"VC\" MATERIAL IN CLICKBOND CB9257VC, CARBON FI...</td>\n",
       "      <td>GSC33217</td>\n",
       "      <td>CLB</td>\n",
       "      <td>0.52</td>\n",
       "      <td>12</td>\n",
       "      <td>0.00</td>\n",
       "      <td>1.0</td>\n",
       "      <td>0.28</td>\n",
       "      <td>CLICKBOND</td>\n",
       "      <td>NaN</td>\n",
       "    </tr>\n",
       "    <tr>\n",
       "      <th>2</th>\n",
       "      <td>0.5 MIL KAPTON KEVLAR, SHELDAHL 177544</td>\n",
       "      <td>GSC32950</td>\n",
       "      <td>SCH</td>\n",
       "      <td>2.48</td>\n",
       "      <td>6</td>\n",
       "      <td>0.05</td>\n",
       "      <td>1.0</td>\n",
       "      <td>1.97</td>\n",
       "      <td>BLANKET MATERIAL</td>\n",
       "      <td>NaN</td>\n",
       "    </tr>\n",
       "    <tr>\n",
       "      <th>3</th>\n",
       "      <td>0667 BLACK EPDM</td>\n",
       "      <td>GSC34174</td>\n",
       "      <td>PRS</td>\n",
       "      <td>0.65</td>\n",
       "      <td>15</td>\n",
       "      <td>0.13</td>\n",
       "      <td>1.0</td>\n",
       "      <td>0.07</td>\n",
       "      <td>ORING</td>\n",
       "      <td>NaN</td>\n",
       "    </tr>\n",
       "    <tr>\n",
       "      <th>4</th>\n",
       "      <td>1 INCH COPPER TAPE</td>\n",
       "      <td>GSC33829</td>\n",
       "      <td>MMM</td>\n",
       "      <td>0.24</td>\n",
       "      <td>16</td>\n",
       "      <td>0.08</td>\n",
       "      <td>1.0</td>\n",
       "      <td>0.01</td>\n",
       "      <td>TAPE</td>\n",
       "      <td>NaN</td>\n",
       "    </tr>\n",
       "  </tbody>\n",
       "</table>\n",
       "</div>"
      ],
      "text/plain": [
       "                                     Sample Material        ID  MFR   TML  \\\n",
       "0  \"V\" MATERIAL IN CLICKBOND CB4023V, GLASS/PEI -...  GSC33214  CLB  0.37   \n",
       "1  \"VC\" MATERIAL IN CLICKBOND CB9257VC, CARBON FI...  GSC33217  CLB  0.52   \n",
       "2             0.5 MIL KAPTON KEVLAR, SHELDAHL 177544  GSC32950  SCH  2.48   \n",
       "3                                    0667 BLACK EPDM  GSC34174  PRS  0.65   \n",
       "4                                1 INCH COPPER TAPE   GSC33829  MMM  0.24   \n",
       "\n",
       "   Category  CVCM  Space Code   WVR    Material Usage Cure  \n",
       "0        12  0.00         1.0  0.35         CLICKBOND  NaN  \n",
       "1        12  0.00         1.0  0.28         CLICKBOND  NaN  \n",
       "2         6  0.05         1.0  1.97  BLANKET MATERIAL  NaN  \n",
       "3        15  0.13         1.0  0.07             ORING  NaN  \n",
       "4        16  0.08         1.0  0.01              TAPE  NaN  "
      ]
     },
     "execution_count": 3,
     "metadata": {},
     "output_type": "execute_result"
    }
   ],
   "source": [
    "df.head()"
   ]
  },
  {
   "cell_type": "code",
   "execution_count": 4,
   "metadata": {},
   "outputs": [
    {
     "data": {
      "text/plain": [
       "12859"
      ]
     },
     "execution_count": 4,
     "metadata": {},
     "output_type": "execute_result"
    }
   ],
   "source": [
    "r,c = df.shape\n",
    "r"
   ]
  },
  {
   "cell_type": "code",
   "execution_count": 5,
   "metadata": {},
   "outputs": [
    {
     "data": {
      "text/html": [
       "<div>\n",
       "<style scoped>\n",
       "    .dataframe tbody tr th:only-of-type {\n",
       "        vertical-align: middle;\n",
       "    }\n",
       "\n",
       "    .dataframe tbody tr th {\n",
       "        vertical-align: top;\n",
       "    }\n",
       "\n",
       "    .dataframe thead th {\n",
       "        text-align: right;\n",
       "    }\n",
       "</style>\n",
       "<table border=\"1\" class=\"dataframe\">\n",
       "  <thead>\n",
       "    <tr style=\"text-align: right;\">\n",
       "      <th></th>\n",
       "      <th>perc_missing</th>\n",
       "      <th>total_missing</th>\n",
       "    </tr>\n",
       "  </thead>\n",
       "  <tbody>\n",
       "    <tr>\n",
       "      <th>Sample Material</th>\n",
       "      <td>0.000000</td>\n",
       "      <td>0</td>\n",
       "    </tr>\n",
       "    <tr>\n",
       "      <th>ID</th>\n",
       "      <td>0.000000</td>\n",
       "      <td>0</td>\n",
       "    </tr>\n",
       "    <tr>\n",
       "      <th>MFR</th>\n",
       "      <td>0.000000</td>\n",
       "      <td>0</td>\n",
       "    </tr>\n",
       "    <tr>\n",
       "      <th>TML</th>\n",
       "      <td>0.007777</td>\n",
       "      <td>1</td>\n",
       "    </tr>\n",
       "    <tr>\n",
       "      <th>Category</th>\n",
       "      <td>0.000000</td>\n",
       "      <td>0</td>\n",
       "    </tr>\n",
       "    <tr>\n",
       "      <th>CVCM</th>\n",
       "      <td>0.046660</td>\n",
       "      <td>6</td>\n",
       "    </tr>\n",
       "    <tr>\n",
       "      <th>Space Code</th>\n",
       "      <td>0.015553</td>\n",
       "      <td>2</td>\n",
       "    </tr>\n",
       "    <tr>\n",
       "      <th>WVR</th>\n",
       "      <td>21.867952</td>\n",
       "      <td>2812</td>\n",
       "    </tr>\n",
       "    <tr>\n",
       "      <th>Material Usage</th>\n",
       "      <td>0.015553</td>\n",
       "      <td>2</td>\n",
       "    </tr>\n",
       "    <tr>\n",
       "      <th>Cure</th>\n",
       "      <td>45.648962</td>\n",
       "      <td>5870</td>\n",
       "    </tr>\n",
       "  </tbody>\n",
       "</table>\n",
       "</div>"
      ],
      "text/plain": [
       "                 perc_missing  total_missing\n",
       "Sample Material      0.000000              0\n",
       "ID                   0.000000              0\n",
       "MFR                  0.000000              0\n",
       "TML                  0.007777              1\n",
       "Category             0.000000              0\n",
       "CVCM                 0.046660              6\n",
       "Space Code           0.015553              2\n",
       "WVR                 21.867952           2812\n",
       "Material Usage       0.015553              2\n",
       "Cure                45.648962           5870"
      ]
     },
     "execution_count": 5,
     "metadata": {},
     "output_type": "execute_result"
    }
   ],
   "source": [
    "missing_data = pd.DataFrame({'total_missing': df.isnull().sum(), 'perc_missing': (df.isnull().sum()/r)*100})\n",
    "missing_data"
   ]
  },
  {
   "cell_type": "code",
   "execution_count": 6,
   "metadata": {},
   "outputs": [
    {
     "data": {
      "text/plain": [
       "5276"
      ]
     },
     "execution_count": 6,
     "metadata": {},
     "output_type": "execute_result"
    }
   ],
   "source": [
    "df = df.dropna()\n",
    "r,c = df.shape\n",
    "r"
   ]
  },
  {
   "cell_type": "code",
   "execution_count": 7,
   "metadata": {},
   "outputs": [
    {
     "data": {
      "text/html": [
       "<div>\n",
       "<style scoped>\n",
       "    .dataframe tbody tr th:only-of-type {\n",
       "        vertical-align: middle;\n",
       "    }\n",
       "\n",
       "    .dataframe tbody tr th {\n",
       "        vertical-align: top;\n",
       "    }\n",
       "\n",
       "    .dataframe thead th {\n",
       "        text-align: right;\n",
       "    }\n",
       "</style>\n",
       "<table border=\"1\" class=\"dataframe\">\n",
       "  <thead>\n",
       "    <tr style=\"text-align: right;\">\n",
       "      <th></th>\n",
       "      <th>Sample Material</th>\n",
       "      <th>ID</th>\n",
       "      <th>MFR</th>\n",
       "      <th>TML</th>\n",
       "      <th>Category</th>\n",
       "      <th>CVCM</th>\n",
       "      <th>Space Code</th>\n",
       "      <th>WVR</th>\n",
       "      <th>Material Usage</th>\n",
       "      <th>Cure</th>\n",
       "    </tr>\n",
       "  </thead>\n",
       "  <tbody>\n",
       "    <tr>\n",
       "      <th>7</th>\n",
       "      <td>10SL7AP APPLE RUBBER 70 DURIMETER PHENYL SILIC...</td>\n",
       "      <td>GSC34036</td>\n",
       "      <td>APR</td>\n",
       "      <td>0.26</td>\n",
       "      <td>15</td>\n",
       "      <td>0.07</td>\n",
       "      <td>1.0</td>\n",
       "      <td>0.05</td>\n",
       "      <td>O-RING</td>\n",
       "      <td>4H</td>\n",
       "    </tr>\n",
       "    <tr>\n",
       "      <th>8</th>\n",
       "      <td>10SL7AP APPLE RUBBER 70 DURIMETER PHENYL SILIC...</td>\n",
       "      <td>GSC34039</td>\n",
       "      <td>APR</td>\n",
       "      <td>0.09</td>\n",
       "      <td>15</td>\n",
       "      <td>0.01</td>\n",
       "      <td>2.0</td>\n",
       "      <td>0.05</td>\n",
       "      <td>O-RING</td>\n",
       "      <td>4H</td>\n",
       "    </tr>\n",
       "    <tr>\n",
       "      <th>12</th>\n",
       "      <td>13664 FLUOROCARBON RUBBER (F75)</td>\n",
       "      <td>GSC33088</td>\n",
       "      <td>PCX</td>\n",
       "      <td>0.13</td>\n",
       "      <td>15</td>\n",
       "      <td>0.00</td>\n",
       "      <td>2.0</td>\n",
       "      <td>0.06</td>\n",
       "      <td>RUBBER</td>\n",
       "      <td>10M</td>\n",
       "    </tr>\n",
       "    <tr>\n",
       "      <th>17</th>\n",
       "      <td>27% NI-CLAD COPPER WIRE WITH H-ALCAL INSULATION</td>\n",
       "      <td>GSC29605</td>\n",
       "      <td>CFW</td>\n",
       "      <td>0.03</td>\n",
       "      <td>99</td>\n",
       "      <td>0.01</td>\n",
       "      <td>1.0</td>\n",
       "      <td>0.02</td>\n",
       "      <td>WIRE</td>\n",
       "      <td>3H</td>\n",
       "    </tr>\n",
       "    <tr>\n",
       "      <th>20</th>\n",
       "      <td>3 HOUR EPOXY A/B 1/1 PWB</td>\n",
       "      <td>GSC27526</td>\n",
       "      <td>UNK</td>\n",
       "      <td>14.13</td>\n",
       "      <td>0</td>\n",
       "      <td>0.04</td>\n",
       "      <td>1.0</td>\n",
       "      <td>0.37</td>\n",
       "      <td>ADHESIVE</td>\n",
       "      <td>14D</td>\n",
       "    </tr>\n",
       "  </tbody>\n",
       "</table>\n",
       "</div>"
      ],
      "text/plain": [
       "                                      Sample Material        ID  MFR    TML  \\\n",
       "7   10SL7AP APPLE RUBBER 70 DURIMETER PHENYL SILIC...  GSC34036  APR   0.26   \n",
       "8   10SL7AP APPLE RUBBER 70 DURIMETER PHENYL SILIC...  GSC34039  APR   0.09   \n",
       "12                    13664 FLUOROCARBON RUBBER (F75)  GSC33088  PCX   0.13   \n",
       "17    27% NI-CLAD COPPER WIRE WITH H-ALCAL INSULATION  GSC29605  CFW   0.03   \n",
       "20                           3 HOUR EPOXY A/B 1/1 PWB  GSC27526  UNK  14.13   \n",
       "\n",
       "    Category  CVCM  Space Code   WVR Material Usage Cure  \n",
       "7         15  0.07         1.0  0.05         O-RING   4H  \n",
       "8         15  0.01         2.0  0.05         O-RING   4H  \n",
       "12        15  0.00         2.0  0.06         RUBBER  10M  \n",
       "17        99  0.01         1.0  0.02           WIRE   3H  \n",
       "20         0  0.04         1.0  0.37       ADHESIVE  14D  "
      ]
     },
     "execution_count": 7,
     "metadata": {},
     "output_type": "execute_result"
    }
   ],
   "source": [
    "df.head()"
   ]
  },
  {
   "cell_type": "code",
   "execution_count": 8,
   "metadata": {},
   "outputs": [
    {
     "data": {
      "text/html": [
       "<div>\n",
       "<style scoped>\n",
       "    .dataframe tbody tr th:only-of-type {\n",
       "        vertical-align: middle;\n",
       "    }\n",
       "\n",
       "    .dataframe tbody tr th {\n",
       "        vertical-align: top;\n",
       "    }\n",
       "\n",
       "    .dataframe thead th {\n",
       "        text-align: right;\n",
       "    }\n",
       "</style>\n",
       "<table border=\"1\" class=\"dataframe\">\n",
       "  <thead>\n",
       "    <tr style=\"text-align: right;\">\n",
       "      <th></th>\n",
       "      <th>Sample Material</th>\n",
       "      <th>ID</th>\n",
       "      <th>MFR</th>\n",
       "      <th>TML</th>\n",
       "      <th>Category</th>\n",
       "      <th>CVCM</th>\n",
       "      <th>Space Code</th>\n",
       "      <th>WVR</th>\n",
       "      <th>Material Usage</th>\n",
       "      <th>Cure</th>\n",
       "    </tr>\n",
       "  </thead>\n",
       "  <tbody>\n",
       "    <tr>\n",
       "      <th>7</th>\n",
       "      <td>0</td>\n",
       "      <td>GSC34036</td>\n",
       "      <td>APR</td>\n",
       "      <td>0.26</td>\n",
       "      <td>15</td>\n",
       "      <td>0.07</td>\n",
       "      <td>1.0</td>\n",
       "      <td>0.05</td>\n",
       "      <td>O-RING</td>\n",
       "      <td>4H</td>\n",
       "    </tr>\n",
       "    <tr>\n",
       "      <th>8</th>\n",
       "      <td>0</td>\n",
       "      <td>GSC34039</td>\n",
       "      <td>APR</td>\n",
       "      <td>0.09</td>\n",
       "      <td>15</td>\n",
       "      <td>0.01</td>\n",
       "      <td>2.0</td>\n",
       "      <td>0.05</td>\n",
       "      <td>O-RING</td>\n",
       "      <td>4H</td>\n",
       "    </tr>\n",
       "    <tr>\n",
       "      <th>12</th>\n",
       "      <td>1</td>\n",
       "      <td>GSC33088</td>\n",
       "      <td>PCX</td>\n",
       "      <td>0.13</td>\n",
       "      <td>15</td>\n",
       "      <td>0.00</td>\n",
       "      <td>2.0</td>\n",
       "      <td>0.06</td>\n",
       "      <td>RUBBER</td>\n",
       "      <td>10M</td>\n",
       "    </tr>\n",
       "    <tr>\n",
       "      <th>17</th>\n",
       "      <td>2</td>\n",
       "      <td>GSC29605</td>\n",
       "      <td>CFW</td>\n",
       "      <td>0.03</td>\n",
       "      <td>99</td>\n",
       "      <td>0.01</td>\n",
       "      <td>1.0</td>\n",
       "      <td>0.02</td>\n",
       "      <td>WIRE</td>\n",
       "      <td>3H</td>\n",
       "    </tr>\n",
       "    <tr>\n",
       "      <th>20</th>\n",
       "      <td>3</td>\n",
       "      <td>GSC27526</td>\n",
       "      <td>UNK</td>\n",
       "      <td>14.13</td>\n",
       "      <td>0</td>\n",
       "      <td>0.04</td>\n",
       "      <td>1.0</td>\n",
       "      <td>0.37</td>\n",
       "      <td>ADHESIVE</td>\n",
       "      <td>14D</td>\n",
       "    </tr>\n",
       "  </tbody>\n",
       "</table>\n",
       "</div>"
      ],
      "text/plain": [
       "    Sample Material        ID  MFR    TML  Category  CVCM  Space Code   WVR  \\\n",
       "7                 0  GSC34036  APR   0.26        15  0.07         1.0  0.05   \n",
       "8                 0  GSC34039  APR   0.09        15  0.01         2.0  0.05   \n",
       "12                1  GSC33088  PCX   0.13        15  0.00         2.0  0.06   \n",
       "17                2  GSC29605  CFW   0.03        99  0.01         1.0  0.02   \n",
       "20                3  GSC27526  UNK  14.13         0  0.04         1.0  0.37   \n",
       "\n",
       "   Material Usage Cure  \n",
       "7          O-RING   4H  \n",
       "8          O-RING   4H  \n",
       "12         RUBBER  10M  \n",
       "17           WIRE   3H  \n",
       "20       ADHESIVE  14D  "
      ]
     },
     "execution_count": 8,
     "metadata": {},
     "output_type": "execute_result"
    }
   ],
   "source": [
    "le = LabelEncoder()\n",
    "df['Sample Material']= le.fit_transform(df['Sample Material'].astype('str'))\n",
    "df.head()\n"
   ]
  },
  {
   "cell_type": "code",
   "execution_count": 9,
   "metadata": {},
   "outputs": [
    {
     "data": {
      "text/html": [
       "<div>\n",
       "<style scoped>\n",
       "    .dataframe tbody tr th:only-of-type {\n",
       "        vertical-align: middle;\n",
       "    }\n",
       "\n",
       "    .dataframe tbody tr th {\n",
       "        vertical-align: top;\n",
       "    }\n",
       "\n",
       "    .dataframe thead th {\n",
       "        text-align: right;\n",
       "    }\n",
       "</style>\n",
       "<table border=\"1\" class=\"dataframe\">\n",
       "  <thead>\n",
       "    <tr style=\"text-align: right;\">\n",
       "      <th></th>\n",
       "      <th>Sample Material</th>\n",
       "      <th>ID</th>\n",
       "      <th>MFR</th>\n",
       "      <th>TML</th>\n",
       "      <th>Category</th>\n",
       "      <th>CVCM</th>\n",
       "      <th>Space Code</th>\n",
       "      <th>WVR</th>\n",
       "      <th>Material Usage</th>\n",
       "      <th>Cure</th>\n",
       "    </tr>\n",
       "  </thead>\n",
       "  <tbody>\n",
       "    <tr>\n",
       "      <th>7</th>\n",
       "      <td>0</td>\n",
       "      <td>GSC34036</td>\n",
       "      <td>44</td>\n",
       "      <td>0.26</td>\n",
       "      <td>15</td>\n",
       "      <td>0.07</td>\n",
       "      <td>1.0</td>\n",
       "      <td>0.05</td>\n",
       "      <td>O-RING</td>\n",
       "      <td>4H</td>\n",
       "    </tr>\n",
       "    <tr>\n",
       "      <th>8</th>\n",
       "      <td>0</td>\n",
       "      <td>GSC34039</td>\n",
       "      <td>44</td>\n",
       "      <td>0.09</td>\n",
       "      <td>15</td>\n",
       "      <td>0.01</td>\n",
       "      <td>2.0</td>\n",
       "      <td>0.05</td>\n",
       "      <td>O-RING</td>\n",
       "      <td>4H</td>\n",
       "    </tr>\n",
       "    <tr>\n",
       "      <th>12</th>\n",
       "      <td>1</td>\n",
       "      <td>GSC33088</td>\n",
       "      <td>439</td>\n",
       "      <td>0.13</td>\n",
       "      <td>15</td>\n",
       "      <td>0.00</td>\n",
       "      <td>2.0</td>\n",
       "      <td>0.06</td>\n",
       "      <td>RUBBER</td>\n",
       "      <td>10M</td>\n",
       "    </tr>\n",
       "    <tr>\n",
       "      <th>17</th>\n",
       "      <td>2</td>\n",
       "      <td>GSC29605</td>\n",
       "      <td>97</td>\n",
       "      <td>0.03</td>\n",
       "      <td>99</td>\n",
       "      <td>0.01</td>\n",
       "      <td>1.0</td>\n",
       "      <td>0.02</td>\n",
       "      <td>WIRE</td>\n",
       "      <td>3H</td>\n",
       "    </tr>\n",
       "    <tr>\n",
       "      <th>20</th>\n",
       "      <td>3</td>\n",
       "      <td>GSC27526</td>\n",
       "      <td>600</td>\n",
       "      <td>14.13</td>\n",
       "      <td>0</td>\n",
       "      <td>0.04</td>\n",
       "      <td>1.0</td>\n",
       "      <td>0.37</td>\n",
       "      <td>ADHESIVE</td>\n",
       "      <td>14D</td>\n",
       "    </tr>\n",
       "  </tbody>\n",
       "</table>\n",
       "</div>"
      ],
      "text/plain": [
       "    Sample Material        ID  MFR    TML  Category  CVCM  Space Code   WVR  \\\n",
       "7                 0  GSC34036   44   0.26        15  0.07         1.0  0.05   \n",
       "8                 0  GSC34039   44   0.09        15  0.01         2.0  0.05   \n",
       "12                1  GSC33088  439   0.13        15  0.00         2.0  0.06   \n",
       "17                2  GSC29605   97   0.03        99  0.01         1.0  0.02   \n",
       "20                3  GSC27526  600  14.13         0  0.04         1.0  0.37   \n",
       "\n",
       "   Material Usage Cure  \n",
       "7          O-RING   4H  \n",
       "8          O-RING   4H  \n",
       "12         RUBBER  10M  \n",
       "17           WIRE   3H  \n",
       "20       ADHESIVE  14D  "
      ]
     },
     "execution_count": 9,
     "metadata": {},
     "output_type": "execute_result"
    }
   ],
   "source": [
    "le = LabelEncoder()\n",
    "df['MFR']= le.fit_transform(df['MFR'].astype('str'))\n",
    "df.head()"
   ]
  },
  {
   "cell_type": "code",
   "execution_count": 10,
   "metadata": {},
   "outputs": [
    {
     "data": {
      "text/html": [
       "<div>\n",
       "<style scoped>\n",
       "    .dataframe tbody tr th:only-of-type {\n",
       "        vertical-align: middle;\n",
       "    }\n",
       "\n",
       "    .dataframe tbody tr th {\n",
       "        vertical-align: top;\n",
       "    }\n",
       "\n",
       "    .dataframe thead th {\n",
       "        text-align: right;\n",
       "    }\n",
       "</style>\n",
       "<table border=\"1\" class=\"dataframe\">\n",
       "  <thead>\n",
       "    <tr style=\"text-align: right;\">\n",
       "      <th></th>\n",
       "      <th>Sample Material</th>\n",
       "      <th>ID</th>\n",
       "      <th>MFR</th>\n",
       "      <th>TML</th>\n",
       "      <th>Category</th>\n",
       "      <th>CVCM</th>\n",
       "      <th>Space Code</th>\n",
       "      <th>WVR</th>\n",
       "      <th>Material Usage</th>\n",
       "      <th>Cure</th>\n",
       "    </tr>\n",
       "  </thead>\n",
       "  <tbody>\n",
       "    <tr>\n",
       "      <th>7</th>\n",
       "      <td>0</td>\n",
       "      <td>GSC34036</td>\n",
       "      <td>44</td>\n",
       "      <td>0.26</td>\n",
       "      <td>15</td>\n",
       "      <td>0.07</td>\n",
       "      <td>1.0</td>\n",
       "      <td>0.05</td>\n",
       "      <td>O-RING</td>\n",
       "      <td>122</td>\n",
       "    </tr>\n",
       "    <tr>\n",
       "      <th>8</th>\n",
       "      <td>0</td>\n",
       "      <td>GSC34039</td>\n",
       "      <td>44</td>\n",
       "      <td>0.09</td>\n",
       "      <td>15</td>\n",
       "      <td>0.01</td>\n",
       "      <td>2.0</td>\n",
       "      <td>0.05</td>\n",
       "      <td>O-RING</td>\n",
       "      <td>122</td>\n",
       "    </tr>\n",
       "    <tr>\n",
       "      <th>12</th>\n",
       "      <td>1</td>\n",
       "      <td>GSC33088</td>\n",
       "      <td>439</td>\n",
       "      <td>0.13</td>\n",
       "      <td>15</td>\n",
       "      <td>0.00</td>\n",
       "      <td>2.0</td>\n",
       "      <td>0.06</td>\n",
       "      <td>RUBBER</td>\n",
       "      <td>16</td>\n",
       "    </tr>\n",
       "    <tr>\n",
       "      <th>17</th>\n",
       "      <td>2</td>\n",
       "      <td>GSC29605</td>\n",
       "      <td>97</td>\n",
       "      <td>0.03</td>\n",
       "      <td>99</td>\n",
       "      <td>0.01</td>\n",
       "      <td>1.0</td>\n",
       "      <td>0.02</td>\n",
       "      <td>WIRE</td>\n",
       "      <td>102</td>\n",
       "    </tr>\n",
       "    <tr>\n",
       "      <th>20</th>\n",
       "      <td>3</td>\n",
       "      <td>GSC27526</td>\n",
       "      <td>600</td>\n",
       "      <td>14.13</td>\n",
       "      <td>0</td>\n",
       "      <td>0.04</td>\n",
       "      <td>1.0</td>\n",
       "      <td>0.37</td>\n",
       "      <td>ADHESIVE</td>\n",
       "      <td>34</td>\n",
       "    </tr>\n",
       "  </tbody>\n",
       "</table>\n",
       "</div>"
      ],
      "text/plain": [
       "    Sample Material        ID  MFR    TML  Category  CVCM  Space Code   WVR  \\\n",
       "7                 0  GSC34036   44   0.26        15  0.07         1.0  0.05   \n",
       "8                 0  GSC34039   44   0.09        15  0.01         2.0  0.05   \n",
       "12                1  GSC33088  439   0.13        15  0.00         2.0  0.06   \n",
       "17                2  GSC29605   97   0.03        99  0.01         1.0  0.02   \n",
       "20                3  GSC27526  600  14.13         0  0.04         1.0  0.37   \n",
       "\n",
       "   Material Usage  Cure  \n",
       "7          O-RING   122  \n",
       "8          O-RING   122  \n",
       "12         RUBBER    16  \n",
       "17           WIRE   102  \n",
       "20       ADHESIVE    34  "
      ]
     },
     "execution_count": 10,
     "metadata": {},
     "output_type": "execute_result"
    }
   ],
   "source": [
    "le = LabelEncoder()\n",
    "df['Cure']= le.fit_transform(df['Cure'].astype('str'))\n",
    "df.head()"
   ]
  },
  {
   "cell_type": "code",
   "execution_count": 11,
   "metadata": {},
   "outputs": [
    {
     "data": {
      "text/html": [
       "<div>\n",
       "<style scoped>\n",
       "    .dataframe tbody tr th:only-of-type {\n",
       "        vertical-align: middle;\n",
       "    }\n",
       "\n",
       "    .dataframe tbody tr th {\n",
       "        vertical-align: top;\n",
       "    }\n",
       "\n",
       "    .dataframe thead th {\n",
       "        text-align: right;\n",
       "    }\n",
       "</style>\n",
       "<table border=\"1\" class=\"dataframe\">\n",
       "  <thead>\n",
       "    <tr style=\"text-align: right;\">\n",
       "      <th></th>\n",
       "      <th>Sample Material</th>\n",
       "      <th>ID</th>\n",
       "      <th>MFR</th>\n",
       "      <th>TML</th>\n",
       "      <th>Category</th>\n",
       "      <th>CVCM</th>\n",
       "      <th>Space Code</th>\n",
       "      <th>WVR</th>\n",
       "      <th>Material Usage</th>\n",
       "      <th>Cure</th>\n",
       "    </tr>\n",
       "  </thead>\n",
       "  <tbody>\n",
       "    <tr>\n",
       "      <th>7</th>\n",
       "      <td>0</td>\n",
       "      <td>GSC34036</td>\n",
       "      <td>44</td>\n",
       "      <td>0.26</td>\n",
       "      <td>15</td>\n",
       "      <td>0.07</td>\n",
       "      <td>1.0</td>\n",
       "      <td>0.05</td>\n",
       "      <td>221</td>\n",
       "      <td>122</td>\n",
       "    </tr>\n",
       "    <tr>\n",
       "      <th>8</th>\n",
       "      <td>0</td>\n",
       "      <td>GSC34039</td>\n",
       "      <td>44</td>\n",
       "      <td>0.09</td>\n",
       "      <td>15</td>\n",
       "      <td>0.01</td>\n",
       "      <td>2.0</td>\n",
       "      <td>0.05</td>\n",
       "      <td>221</td>\n",
       "      <td>122</td>\n",
       "    </tr>\n",
       "    <tr>\n",
       "      <th>12</th>\n",
       "      <td>1</td>\n",
       "      <td>GSC33088</td>\n",
       "      <td>439</td>\n",
       "      <td>0.13</td>\n",
       "      <td>15</td>\n",
       "      <td>0.00</td>\n",
       "      <td>2.0</td>\n",
       "      <td>0.06</td>\n",
       "      <td>273</td>\n",
       "      <td>16</td>\n",
       "    </tr>\n",
       "    <tr>\n",
       "      <th>17</th>\n",
       "      <td>2</td>\n",
       "      <td>GSC29605</td>\n",
       "      <td>97</td>\n",
       "      <td>0.03</td>\n",
       "      <td>99</td>\n",
       "      <td>0.01</td>\n",
       "      <td>1.0</td>\n",
       "      <td>0.02</td>\n",
       "      <td>369</td>\n",
       "      <td>102</td>\n",
       "    </tr>\n",
       "    <tr>\n",
       "      <th>20</th>\n",
       "      <td>3</td>\n",
       "      <td>GSC27526</td>\n",
       "      <td>600</td>\n",
       "      <td>14.13</td>\n",
       "      <td>0</td>\n",
       "      <td>0.04</td>\n",
       "      <td>1.0</td>\n",
       "      <td>0.37</td>\n",
       "      <td>14</td>\n",
       "      <td>34</td>\n",
       "    </tr>\n",
       "  </tbody>\n",
       "</table>\n",
       "</div>"
      ],
      "text/plain": [
       "    Sample Material        ID  MFR    TML  Category  CVCM  Space Code   WVR  \\\n",
       "7                 0  GSC34036   44   0.26        15  0.07         1.0  0.05   \n",
       "8                 0  GSC34039   44   0.09        15  0.01         2.0  0.05   \n",
       "12                1  GSC33088  439   0.13        15  0.00         2.0  0.06   \n",
       "17                2  GSC29605   97   0.03        99  0.01         1.0  0.02   \n",
       "20                3  GSC27526  600  14.13         0  0.04         1.0  0.37   \n",
       "\n",
       "    Material Usage  Cure  \n",
       "7              221   122  \n",
       "8              221   122  \n",
       "12             273    16  \n",
       "17             369   102  \n",
       "20              14    34  "
      ]
     },
     "execution_count": 11,
     "metadata": {},
     "output_type": "execute_result"
    }
   ],
   "source": [
    "le = LabelEncoder()\n",
    "df['Material Usage']= le.fit_transform(df['Material Usage'].astype('str'))\n",
    "df.head()"
   ]
  },
  {
   "cell_type": "code",
   "execution_count": 12,
   "metadata": {},
   "outputs": [
    {
     "name": "stdout",
     "output_type": "stream",
     "text": [
      "(5276, 10)\n"
     ]
    }
   ],
   "source": [
    "# rename colums\n",
    "# df = df.rename(columns= {'Date/Time - Peak Brightness (UT)':'date', \n",
    "#                           'Latitude (Deg)':'lat', \n",
    "#                           'Longitude (Deg)':'long',\n",
    "#                         'Altitude (km)': 'alt',\n",
    "#                          'Velocity (km/s)': 'vel',\n",
    "#                          'Velocity Components (km/s): vx': 'velx',\n",
    "#                          'Velocity Components (km/s): vy': 'vely',\n",
    "#                          'Velocity Components (km/s): vz': 'velz',\n",
    "#                          'Total Radiated Energy (J)':'tot_j',\n",
    "#                          'Calculated Total Impact Energy (kt)': 'tot_kt' \n",
    "#                         })\n",
    "\n",
    "r, c = df.shape\n",
    "print(r, c)"
   ]
  },
  {
   "cell_type": "code",
   "execution_count": 13,
   "metadata": {},
   "outputs": [
    {
     "data": {
      "text/html": [
       "<div>\n",
       "<style scoped>\n",
       "    .dataframe tbody tr th:only-of-type {\n",
       "        vertical-align: middle;\n",
       "    }\n",
       "\n",
       "    .dataframe tbody tr th {\n",
       "        vertical-align: top;\n",
       "    }\n",
       "\n",
       "    .dataframe thead th {\n",
       "        text-align: right;\n",
       "    }\n",
       "</style>\n",
       "<table border=\"1\" class=\"dataframe\">\n",
       "  <thead>\n",
       "    <tr style=\"text-align: right;\">\n",
       "      <th></th>\n",
       "      <th>perc_missing</th>\n",
       "      <th>total_missing</th>\n",
       "    </tr>\n",
       "  </thead>\n",
       "  <tbody>\n",
       "    <tr>\n",
       "      <th>Sample Material</th>\n",
       "      <td>0.0</td>\n",
       "      <td>0</td>\n",
       "    </tr>\n",
       "    <tr>\n",
       "      <th>ID</th>\n",
       "      <td>0.0</td>\n",
       "      <td>0</td>\n",
       "    </tr>\n",
       "    <tr>\n",
       "      <th>MFR</th>\n",
       "      <td>0.0</td>\n",
       "      <td>0</td>\n",
       "    </tr>\n",
       "    <tr>\n",
       "      <th>TML</th>\n",
       "      <td>0.0</td>\n",
       "      <td>0</td>\n",
       "    </tr>\n",
       "    <tr>\n",
       "      <th>Category</th>\n",
       "      <td>0.0</td>\n",
       "      <td>0</td>\n",
       "    </tr>\n",
       "    <tr>\n",
       "      <th>CVCM</th>\n",
       "      <td>0.0</td>\n",
       "      <td>0</td>\n",
       "    </tr>\n",
       "    <tr>\n",
       "      <th>Space Code</th>\n",
       "      <td>0.0</td>\n",
       "      <td>0</td>\n",
       "    </tr>\n",
       "    <tr>\n",
       "      <th>WVR</th>\n",
       "      <td>0.0</td>\n",
       "      <td>0</td>\n",
       "    </tr>\n",
       "    <tr>\n",
       "      <th>Material Usage</th>\n",
       "      <td>0.0</td>\n",
       "      <td>0</td>\n",
       "    </tr>\n",
       "    <tr>\n",
       "      <th>Cure</th>\n",
       "      <td>0.0</td>\n",
       "      <td>0</td>\n",
       "    </tr>\n",
       "  </tbody>\n",
       "</table>\n",
       "</div>"
      ],
      "text/plain": [
       "                 perc_missing  total_missing\n",
       "Sample Material           0.0              0\n",
       "ID                        0.0              0\n",
       "MFR                       0.0              0\n",
       "TML                       0.0              0\n",
       "Category                  0.0              0\n",
       "CVCM                      0.0              0\n",
       "Space Code                0.0              0\n",
       "WVR                       0.0              0\n",
       "Material Usage            0.0              0\n",
       "Cure                      0.0              0"
      ]
     },
     "execution_count": 13,
     "metadata": {},
     "output_type": "execute_result"
    }
   ],
   "source": [
    "## missing data\n",
    "missing_data = pd.DataFrame({'total_missing': df.isnull().sum(), 'perc_missing': (df.isnull().sum()/r)*100})\n",
    "missing_data"
   ]
  },
  {
   "cell_type": "code",
   "execution_count": 14,
   "metadata": {},
   "outputs": [
    {
     "data": {
      "text/html": [
       "<div>\n",
       "<style scoped>\n",
       "    .dataframe tbody tr th:only-of-type {\n",
       "        vertical-align: middle;\n",
       "    }\n",
       "\n",
       "    .dataframe tbody tr th {\n",
       "        vertical-align: top;\n",
       "    }\n",
       "\n",
       "    .dataframe thead th {\n",
       "        text-align: right;\n",
       "    }\n",
       "</style>\n",
       "<table border=\"1\" class=\"dataframe\">\n",
       "  <thead>\n",
       "    <tr style=\"text-align: right;\">\n",
       "      <th></th>\n",
       "      <th>Sample Material</th>\n",
       "      <th>MFR</th>\n",
       "      <th>TML</th>\n",
       "      <th>Category</th>\n",
       "      <th>CVCM</th>\n",
       "      <th>Space Code</th>\n",
       "      <th>WVR</th>\n",
       "      <th>Material Usage</th>\n",
       "      <th>Cure</th>\n",
       "    </tr>\n",
       "  </thead>\n",
       "  <tbody>\n",
       "    <tr>\n",
       "      <th>count</th>\n",
       "      <td>5276.000000</td>\n",
       "      <td>5276.000000</td>\n",
       "      <td>5276.000000</td>\n",
       "      <td>5276.000000</td>\n",
       "      <td>5276.000000</td>\n",
       "      <td>5276.000000</td>\n",
       "      <td>5276.000000</td>\n",
       "      <td>5276.000000</td>\n",
       "      <td>5276.000000</td>\n",
       "    </tr>\n",
       "    <tr>\n",
       "      <th>mean</th>\n",
       "      <td>2074.328658</td>\n",
       "      <td>274.996588</td>\n",
       "      <td>1.948412</td>\n",
       "      <td>7.731994</td>\n",
       "      <td>0.296499</td>\n",
       "      <td>1.305724</td>\n",
       "      <td>0.331897</td>\n",
       "      <td>139.051365</td>\n",
       "      <td>95.217400</td>\n",
       "    </tr>\n",
       "    <tr>\n",
       "      <th>std</th>\n",
       "      <td>1209.761265</td>\n",
       "      <td>171.056513</td>\n",
       "      <td>4.006997</td>\n",
       "      <td>13.068895</td>\n",
       "      <td>1.606120</td>\n",
       "      <td>0.607671</td>\n",
       "      <td>1.469933</td>\n",
       "      <td>106.737631</td>\n",
       "      <td>45.181965</td>\n",
       "    </tr>\n",
       "    <tr>\n",
       "      <th>min</th>\n",
       "      <td>0.000000</td>\n",
       "      <td>0.000000</td>\n",
       "      <td>0.000000</td>\n",
       "      <td>0.000000</td>\n",
       "      <td>0.000000</td>\n",
       "      <td>0.000000</td>\n",
       "      <td>0.000000</td>\n",
       "      <td>0.000000</td>\n",
       "      <td>0.000000</td>\n",
       "    </tr>\n",
       "    <tr>\n",
       "      <th>25%</th>\n",
       "      <td>1031.000000</td>\n",
       "      <td>139.000000</td>\n",
       "      <td>0.400000</td>\n",
       "      <td>1.000000</td>\n",
       "      <td>0.010000</td>\n",
       "      <td>1.000000</td>\n",
       "      <td>0.060000</td>\n",
       "      <td>14.000000</td>\n",
       "      <td>53.000000</td>\n",
       "    </tr>\n",
       "    <tr>\n",
       "      <th>50%</th>\n",
       "      <td>2081.500000</td>\n",
       "      <td>255.000000</td>\n",
       "      <td>0.870000</td>\n",
       "      <td>3.000000</td>\n",
       "      <td>0.040000</td>\n",
       "      <td>1.000000</td>\n",
       "      <td>0.190000</td>\n",
       "      <td>130.000000</td>\n",
       "      <td>83.000000</td>\n",
       "    </tr>\n",
       "    <tr>\n",
       "      <th>75%</th>\n",
       "      <td>3122.250000</td>\n",
       "      <td>385.000000</td>\n",
       "      <td>1.790000</td>\n",
       "      <td>13.000000</td>\n",
       "      <td>0.130000</td>\n",
       "      <td>1.000000</td>\n",
       "      <td>0.390000</td>\n",
       "      <td>236.000000</td>\n",
       "      <td>139.000000</td>\n",
       "    </tr>\n",
       "    <tr>\n",
       "      <th>max</th>\n",
       "      <td>4190.000000</td>\n",
       "      <td>642.000000</td>\n",
       "      <td>99.750000</td>\n",
       "      <td>99.000000</td>\n",
       "      <td>62.200000</td>\n",
       "      <td>9.000000</td>\n",
       "      <td>99.990000</td>\n",
       "      <td>373.000000</td>\n",
       "      <td>182.000000</td>\n",
       "    </tr>\n",
       "  </tbody>\n",
       "</table>\n",
       "</div>"
      ],
      "text/plain": [
       "       Sample Material          MFR          TML     Category         CVCM  \\\n",
       "count      5276.000000  5276.000000  5276.000000  5276.000000  5276.000000   \n",
       "mean       2074.328658   274.996588     1.948412     7.731994     0.296499   \n",
       "std        1209.761265   171.056513     4.006997    13.068895     1.606120   \n",
       "min           0.000000     0.000000     0.000000     0.000000     0.000000   \n",
       "25%        1031.000000   139.000000     0.400000     1.000000     0.010000   \n",
       "50%        2081.500000   255.000000     0.870000     3.000000     0.040000   \n",
       "75%        3122.250000   385.000000     1.790000    13.000000     0.130000   \n",
       "max        4190.000000   642.000000    99.750000    99.000000    62.200000   \n",
       "\n",
       "        Space Code          WVR  Material Usage         Cure  \n",
       "count  5276.000000  5276.000000     5276.000000  5276.000000  \n",
       "mean      1.305724     0.331897      139.051365    95.217400  \n",
       "std       0.607671     1.469933      106.737631    45.181965  \n",
       "min       0.000000     0.000000        0.000000     0.000000  \n",
       "25%       1.000000     0.060000       14.000000    53.000000  \n",
       "50%       1.000000     0.190000      130.000000    83.000000  \n",
       "75%       1.000000     0.390000      236.000000   139.000000  \n",
       "max       9.000000    99.990000      373.000000   182.000000  "
      ]
     },
     "execution_count": 14,
     "metadata": {},
     "output_type": "execute_result"
    }
   ],
   "source": [
    "df.describe()"
   ]
  },
  {
   "cell_type": "code",
   "execution_count": 15,
   "metadata": {},
   "outputs": [
    {
     "data": {
      "image/png": "[encoded data removed]",
      "text/plain": [
       "<Figure size 1296x576 with 1 Axes>"
      ]
     },
     "metadata": {
      "needs_background": "light"
     },
     "output_type": "display_data"
    }
   ],
   "source": [
    "new_data = df\n",
    "plt.figure(figsize=(18,8))\n",
    "plt.xlabel(\"Category\", fontsize=18)\n",
    "plt.ylabel(\"Cure\", fontsize=18)\n",
    "plt.suptitle(\"Joint distribution of Altitude vs Velocity\", fontsize= 20)\n",
    "plt.plot(new_data['Category'], new_data['Cure'], 'bo', alpha=0.2)\n",
    "plt.show()"
   ]
  },
  {
   "cell_type": "code",
   "execution_count": 16,
   "metadata": {},
   "outputs": [
    {
     "data": {
      "text/plain": [
       "Index([u'Sample Material', u'ID', u'MFR', u'TML', u'Category', u'CVCM',\n",
       "       u'Space Code', u'WVR', u'Material Usage', u'Cure'],\n",
       "      dtype='object')"
      ]
     },
     "execution_count": 16,
     "metadata": {},
     "output_type": "execute_result"
    }
   ],
   "source": [
    "new_data.columns"
   ]
  },
  {
   "cell_type": "code",
   "execution_count": 17,
   "metadata": {},
   "outputs": [],
   "source": [
    "# def plot_dist(col, ax):\n",
    "#     new_data[col][new_data[col].notnull()].value_counts().plot('bar', facecolor='y', ax=ax)\n",
    "#     ax.set_xlabel('{}'.format(col), fontsize=20)\n",
    "#     ax.set_title(\"{} --\".format(col), fontsize= 18)\n",
    "#     return ax\n",
    "\n",
    "# f, ax = plt.subplots(3,3, figsize = (22,15))\n",
    "# f.tight_layout(h_pad=9, w_pad=2, rect=[0, 0.03, 1, 0.93])\n",
    "# cols = new_data.columns.to_list()\n",
    "# k = 0\n",
    "# for i in range(2):\n",
    "#     for j in range(2):\n",
    "#         plot_dist(cols[k], ax[i][j])\n",
    "#         k += 1\n",
    "# __ = plt.suptitle(\"Initial Distributions of features\", fontsize= 25)"
   ]
  },
  {
   "cell_type": "code",
   "execution_count": 18,
   "metadata": {},
   "outputs": [],
   "source": [
    "def plot_barh(df,col, cmap = None, stacked=False, norm = None):\n",
    "    df.plot(kind='barh', colormap=cmap, stacked=stacked)\n",
    "    fig = plt.gcf()\n",
    "    fig.set_size_inches(24,12)\n",
    "    plt.title(\"Category vs {}-feedback -  Modcloth {}\".format(col, '(Normalized)' if norm else ''), fontsize= 20)\n",
    "    plt.ylabel('Category', fontsize = 18)\n",
    "    plot = plt.xlabel('Frequency', fontsize=18)\n",
    "    \n",
    "def norm_counts(t):\n",
    "    norms = np.linalg.norm(t.fillna(0), axis=1)\n",
    "    t_norm = t[0:0]\n",
    "    for row, euc in zip(t.iterrows(), norms):\n",
    "        t_norm.loc[row[0]] = list(map(lambda x: x/euc, list(row[1])))\n",
    "    return t_norm"
   ]
  },
  {
   "cell_type": "code",
   "execution_count": 19,
   "metadata": {},
   "outputs": [
    {
     "data": {
      "text/html": [
       "<div>\n",
       "<style scoped>\n",
       "    .dataframe tbody tr th:only-of-type {\n",
       "        vertical-align: middle;\n",
       "    }\n",
       "\n",
       "    .dataframe tbody tr th {\n",
       "        vertical-align: top;\n",
       "    }\n",
       "\n",
       "    .dataframe thead th {\n",
       "        text-align: right;\n",
       "    }\n",
       "</style>\n",
       "<table border=\"1\" class=\"dataframe\">\n",
       "  <thead>\n",
       "    <tr style=\"text-align: right;\">\n",
       "      <th></th>\n",
       "      <th>Sample Material</th>\n",
       "      <th>MFR</th>\n",
       "      <th>TML</th>\n",
       "      <th>Category</th>\n",
       "      <th>CVCM</th>\n",
       "      <th>Space Code</th>\n",
       "      <th>WVR</th>\n",
       "      <th>Material Usage</th>\n",
       "      <th>Cure</th>\n",
       "    </tr>\n",
       "  </thead>\n",
       "  <tbody>\n",
       "    <tr>\n",
       "      <th>7</th>\n",
       "      <td>0</td>\n",
       "      <td>44</td>\n",
       "      <td>0.26</td>\n",
       "      <td>15</td>\n",
       "      <td>0.07</td>\n",
       "      <td>1.0</td>\n",
       "      <td>0.05</td>\n",
       "      <td>221</td>\n",
       "      <td>122</td>\n",
       "    </tr>\n",
       "    <tr>\n",
       "      <th>8</th>\n",
       "      <td>0</td>\n",
       "      <td>44</td>\n",
       "      <td>0.09</td>\n",
       "      <td>15</td>\n",
       "      <td>0.01</td>\n",
       "      <td>2.0</td>\n",
       "      <td>0.05</td>\n",
       "      <td>221</td>\n",
       "      <td>122</td>\n",
       "    </tr>\n",
       "    <tr>\n",
       "      <th>12</th>\n",
       "      <td>1</td>\n",
       "      <td>439</td>\n",
       "      <td>0.13</td>\n",
       "      <td>15</td>\n",
       "      <td>0.00</td>\n",
       "      <td>2.0</td>\n",
       "      <td>0.06</td>\n",
       "      <td>273</td>\n",
       "      <td>16</td>\n",
       "    </tr>\n",
       "    <tr>\n",
       "      <th>17</th>\n",
       "      <td>2</td>\n",
       "      <td>97</td>\n",
       "      <td>0.03</td>\n",
       "      <td>99</td>\n",
       "      <td>0.01</td>\n",
       "      <td>1.0</td>\n",
       "      <td>0.02</td>\n",
       "      <td>369</td>\n",
       "      <td>102</td>\n",
       "    </tr>\n",
       "    <tr>\n",
       "      <th>20</th>\n",
       "      <td>3</td>\n",
       "      <td>600</td>\n",
       "      <td>14.13</td>\n",
       "      <td>0</td>\n",
       "      <td>0.04</td>\n",
       "      <td>1.0</td>\n",
       "      <td>0.37</td>\n",
       "      <td>14</td>\n",
       "      <td>34</td>\n",
       "    </tr>\n",
       "  </tbody>\n",
       "</table>\n",
       "</div>"
      ],
      "text/plain": [
       "    Sample Material  MFR    TML  Category  CVCM  Space Code   WVR  \\\n",
       "7                 0   44   0.26        15  0.07         1.0  0.05   \n",
       "8                 0   44   0.09        15  0.01         2.0  0.05   \n",
       "12                1  439   0.13        15  0.00         2.0  0.06   \n",
       "17                2   97   0.03        99  0.01         1.0  0.02   \n",
       "20                3  600  14.13         0  0.04         1.0  0.37   \n",
       "\n",
       "    Material Usage  Cure  \n",
       "7              221   122  \n",
       "8              221   122  \n",
       "12             273    16  \n",
       "17             369   102  \n",
       "20              14    34  "
      ]
     },
     "execution_count": 19,
     "metadata": {},
     "output_type": "execute_result"
    }
   ],
   "source": [
    "to_drop = ['ID']\n",
    "\n",
    "new_data = new_data.drop(to_drop, axis=1)\n",
    "# df = df.replace(np.nan, 0)\n",
    "new_data.head()\n"
   ]
  },
  {
   "cell_type": "code",
   "execution_count": 68,
   "metadata": {},
   "outputs": [],
   "source": [
    "# X = new_data.iloc[:, 1:].values\n",
    "# Y = new_data.iloc[:, 0].values \n",
    "\n",
    "# prepare the data\n",
    "features = new_data.drop(['Category'], axis = 1)\n",
    "labels = pd.DataFrame(new_data['Category'])\n",
    "\n",
    "X = features.values\n",
    "Y = labels.values"
   ]
  },
  {
   "cell_type": "code",
   "execution_count": 69,
   "metadata": {},
   "outputs": [
    {
     "data": {
      "text/html": [
       "<div>\n",
       "<style scoped>\n",
       "    .dataframe tbody tr th:only-of-type {\n",
       "        vertical-align: middle;\n",
       "    }\n",
       "\n",
       "    .dataframe tbody tr th {\n",
       "        vertical-align: top;\n",
       "    }\n",
       "\n",
       "    .dataframe thead th {\n",
       "        text-align: right;\n",
       "    }\n",
       "</style>\n",
       "<table border=\"1\" class=\"dataframe\">\n",
       "  <thead>\n",
       "    <tr style=\"text-align: right;\">\n",
       "      <th></th>\n",
       "      <th>Sample Material</th>\n",
       "      <th>MFR</th>\n",
       "      <th>TML</th>\n",
       "      <th>Category</th>\n",
       "      <th>CVCM</th>\n",
       "      <th>Space Code</th>\n",
       "      <th>WVR</th>\n",
       "      <th>Material Usage</th>\n",
       "      <th>Cure</th>\n",
       "    </tr>\n",
       "  </thead>\n",
       "  <tbody>\n",
       "    <tr>\n",
       "      <th>12826</th>\n",
       "      <td>4187</td>\n",
       "      <td>25</td>\n",
       "      <td>5.82</td>\n",
       "      <td>13</td>\n",
       "      <td>0.00</td>\n",
       "      <td>1.0</td>\n",
       "      <td>1.73</td>\n",
       "      <td>238</td>\n",
       "      <td>34</td>\n",
       "    </tr>\n",
       "    <tr>\n",
       "      <th>12827</th>\n",
       "      <td>4183</td>\n",
       "      <td>642</td>\n",
       "      <td>0.68</td>\n",
       "      <td>1</td>\n",
       "      <td>0.28</td>\n",
       "      <td>1.0</td>\n",
       "      <td>0.10</td>\n",
       "      <td>14</td>\n",
       "      <td>178</td>\n",
       "    </tr>\n",
       "    <tr>\n",
       "      <th>12833</th>\n",
       "      <td>4188</td>\n",
       "      <td>307</td>\n",
       "      <td>2.48</td>\n",
       "      <td>13</td>\n",
       "      <td>0.00</td>\n",
       "      <td>1.0</td>\n",
       "      <td>1.28</td>\n",
       "      <td>234</td>\n",
       "      <td>14</td>\n",
       "    </tr>\n",
       "    <tr>\n",
       "      <th>12842</th>\n",
       "      <td>4184</td>\n",
       "      <td>254</td>\n",
       "      <td>0.97</td>\n",
       "      <td>1</td>\n",
       "      <td>0.56</td>\n",
       "      <td>1.0</td>\n",
       "      <td>0.03</td>\n",
       "      <td>16</td>\n",
       "      <td>53</td>\n",
       "    </tr>\n",
       "    <tr>\n",
       "      <th>12845</th>\n",
       "      <td>4189</td>\n",
       "      <td>165</td>\n",
       "      <td>1.03</td>\n",
       "      <td>1</td>\n",
       "      <td>0.06</td>\n",
       "      <td>1.0</td>\n",
       "      <td>0.28</td>\n",
       "      <td>55</td>\n",
       "      <td>158</td>\n",
       "    </tr>\n",
       "  </tbody>\n",
       "</table>\n",
       "</div>"
      ],
      "text/plain": [
       "       Sample Material  MFR   TML  Category  CVCM  Space Code   WVR  \\\n",
       "12826             4187   25  5.82        13  0.00         1.0  1.73   \n",
       "12827             4183  642  0.68         1  0.28         1.0  0.10   \n",
       "12833             4188  307  2.48        13  0.00         1.0  1.28   \n",
       "12842             4184  254  0.97         1  0.56         1.0  0.03   \n",
       "12845             4189  165  1.03         1  0.06         1.0  0.28   \n",
       "\n",
       "       Material Usage  Cure  \n",
       "12826             238    34  \n",
       "12827              14   178  \n",
       "12833             234    14  \n",
       "12842              16    53  \n",
       "12845              55   158  "
      ]
     },
     "execution_count": 69,
     "metadata": {},
     "output_type": "execute_result"
    }
   ],
   "source": [
    "new_data.tail()"
   ]
  },
  {
   "cell_type": "code",
   "execution_count": 70,
   "metadata": {},
   "outputs": [
    {
     "data": {
      "text/plain": [
       "<matplotlib.axes._subplots.AxesSubplot at 0x11466e450>"
      ]
     },
     "execution_count": 70,
     "metadata": {},
     "output_type": "execute_result"
    },
    {
     "data": {
      "image/png": "[encoded data removed]",
      "text/plain": [
       "<Figure size 432x288 with 9 Axes>"
      ]
     },
     "metadata": {
      "needs_background": "light"
     },
     "output_type": "display_data"
    },
    {
     "data": {
      "image/png": "[encoded data removed]",
      "text/plain": [
       "<Figure size 432x288 with 1 Axes>"
      ]
     },
     "metadata": {
      "needs_background": "light"
     },
     "output_type": "display_data"
    }
   ],
   "source": [
    "new_data.hist()\n",
    "new_data.plot()"
   ]
  },
  {
   "cell_type": "code",
   "execution_count": 71,
   "metadata": {},
   "outputs": [
    {
     "data": {
      "image/png": "[encoded data removed]",
      "text/plain": [
       "<Figure size 864x648 with 2 Axes>"
      ]
     },
     "metadata": {
      "needs_background": "light"
     },
     "output_type": "display_data"
    }
   ],
   "source": [
    "correlation_matrix = new_data.corr()\n",
    "fig = plt.figure(figsize=(12,9))\n",
    "sns.heatmap(correlation_matrix,vmax=0.8,square = True)\n",
    "plt.show()"
   ]
  },
  {
   "cell_type": "code",
   "execution_count": 72,
   "metadata": {},
   "outputs": [],
   "source": [
    "# imp = SimpleImputer(missing_values=np.nan, strategy=\"mean\")\n",
    "# X = imp.fit_transform(X)\n",
    "# Y = Y.reshape(-1,1)\n",
    "# Y = imp.fit_transform(Y)\n",
    "# Y = Y.reshape(-1)"
   ]
  },
  {
   "cell_type": "code",
   "execution_count": 73,
   "metadata": {},
   "outputs": [],
   "source": [
    "X_train, X_test, y_train, y_test = train_test_split(X, Y, test_size=0.3, random_state=5)"
   ]
  },
  {
   "cell_type": "code",
   "execution_count": 74,
   "metadata": {},
   "outputs": [
    {
     "name": "stderr",
     "output_type": "stream",
     "text": [
      "/Users/Maen/.virtualenvs/tf/lib/python2.7/site-packages/sklearn/preprocessing/data.py:765: DeprecationWarning: The parameter y on transform() is deprecated since 0.19 and will be removed in 0.21\n",
      "  DeprecationWarning)\n"
     ]
    }
   ],
   "source": [
    "sc_X = StandardScaler()\n",
    "X_train = sc_X.fit_transform(X_train, y_train)\n",
    "X_test = sc_X.transform(X_test, y_test)"
   ]
  },
  {
   "cell_type": "code",
   "execution_count": 75,
   "metadata": {},
   "outputs": [
    {
     "data": {
      "text/plain": [
       "array([[-0.14071895, -0.07790877, -0.0783778 , ...,  0.12680721,\n",
       "        -1.16287934,  1.40358058],\n",
       "       [ 0.76429803,  0.53512481, -0.24990325, ..., -0.18578578,\n",
       "        -1.17221992,  1.40358058],\n",
       "       [ 1.04124312,  0.64021629,  5.12287937, ...,  1.35402412,\n",
       "        -1.17221992, -0.10509883],\n",
       "       ...,\n",
       "       [ 0.95387354, -0.11877768, -0.4441306 , ..., -0.1973633 ,\n",
       "         1.03215914,  1.40358058],\n",
       "       [-0.26023395,  1.73783833,  2.08839228, ...,  0.05155334,\n",
       "        -0.62112516,  0.84891903],\n",
       "       [ 0.17578972,  0.44754859, -0.10864699, ..., -0.00633425,\n",
       "        -1.17221992, -0.92599792]])"
      ]
     },
     "execution_count": 75,
     "metadata": {},
     "output_type": "execute_result"
    }
   ],
   "source": [
    "X_train[:]"
   ]
  },
  {
   "cell_type": "code",
   "execution_count": 76,
   "metadata": {},
   "outputs": [
    {
     "data": {
      "text/plain": [
       "array([[ 1],\n",
       "       [ 1],\n",
       "       [ 0],\n",
       "       ...,\n",
       "       [14],\n",
       "       [ 3],\n",
       "       [ 1]])"
      ]
     },
     "execution_count": 76,
     "metadata": {},
     "output_type": "execute_result"
    }
   ],
   "source": [
    "y_train[:]"
   ]
  },
  {
   "cell_type": "code",
   "execution_count": 77,
   "metadata": {},
   "outputs": [
    {
     "data": {
      "text/plain": [
       "LinearRegression(copy_X=True, fit_intercept=True, n_jobs=None,\n",
       "         normalize=False)"
      ]
     },
     "execution_count": 77,
     "metadata": {},
     "output_type": "execute_result"
    }
   ],
   "source": [
    "from sklearn import linear_model\n",
    "regr = linear_model.LinearRegression()\n",
    "regr.fit(X_train, y_train)"
   ]
  },
  {
   "cell_type": "code",
   "execution_count": 78,
   "metadata": {},
   "outputs": [
    {
     "data": {
      "text/plain": [
       "0.13386066427172127"
      ]
     },
     "execution_count": 78,
     "metadata": {},
     "output_type": "execute_result"
    }
   ],
   "source": [
    "regr.score(X_test, y_test)"
   ]
  },
  {
   "cell_type": "code",
   "execution_count": 79,
   "metadata": {},
   "outputs": [
    {
     "data": {
      "text/plain": [
       "0.13386009874184635"
      ]
     },
     "execution_count": 79,
     "metadata": {},
     "output_type": "execute_result"
    }
   ],
   "source": [
    "alphas = np.logspace(-4, -1, 6)\n",
    "regr = linear_model.Lasso()\n",
    "scores = [regr.set_params(alpha=alpha)\n",
    "              .fit(X_train, y_train)\n",
    "              .score(X_test, y_test)\n",
    "          for alpha in alphas]\n",
    "best_alpha = alphas[scores.index(max(scores))]\n",
    "regr.alpha = best_alpha\n",
    "regr.fit(X_train, y_train)\n",
    "regr.score(X_test, y_test)\n",
    "# print(regr.coef_)  "
   ]
  },
  {
   "cell_type": "code",
   "execution_count": 80,
   "metadata": {},
   "outputs": [
    {
     "data": {
      "text/plain": [
       "array([ 0.52939335,  0.60461936, -1.60907519,  0.4356399 ,  0.77280671,\n",
       "        0.40597035,  0.23656049,  0.38709149, -2.06488186, -0.95162992])"
      ]
     },
     "execution_count": 80,
     "metadata": {},
     "output_type": "execute_result"
    }
   ],
   "source": [
    "from sklearn.datasets import load_boston\n",
    "from sklearn.model_selection import cross_val_score\n",
    "from sklearn.tree import DecisionTreeRegressor\n",
    "boston = load_boston()\n",
    "regressor = DecisionTreeRegressor(random_state=0)\n",
    "cross_val_score(regressor, boston.data, boston.target, cv=10)\n",
    "                   "
   ]
  },
  {
   "cell_type": "code",
   "execution_count": 81,
   "metadata": {},
   "outputs": [
    {
     "data": {
      "text/plain": [
       "array([ 0.02987541, -1.29925781,  0.34096191, -0.20801358, -0.01676839,\n",
       "       -0.46053696,  0.42647746, -0.21858822,  0.15138643,  0.28534552])"
      ]
     },
     "execution_count": 81,
     "metadata": {},
     "output_type": "execute_result"
    }
   ],
   "source": [
    "from sklearn.datasets import load_boston\n",
    "from sklearn.model_selection import cross_val_score\n",
    "from sklearn.tree import DecisionTreeRegressor\n",
    "boston = load_boston()\n",
    "regressor = DecisionTreeRegressor(random_state=0)\n",
    "cross_val_score(regressor, X_train, y_train, cv=10)"
   ]
  },
  {
   "cell_type": "code",
   "execution_count": 82,
   "metadata": {},
   "outputs": [
    {
     "data": {
      "text/plain": [
       "array([[ 1.,  0.,  1.,  0.,  0.,  1.],\n",
       "       [ 1.,  2.,  3.,  4.,  6.,  9.],\n",
       "       [ 1.,  4.,  5., 16., 20., 25.]])"
      ]
     },
     "execution_count": 82,
     "metadata": {},
     "output_type": "execute_result"
    }
   ],
   "source": [
    "from sklearn.preprocessing import PolynomialFeatures\n",
    "import numpy as np\n",
    "X = np.arange(6).reshape(3, 2)\n",
    "X\n",
    "\n",
    "\n",
    "\n",
    "poly = PolynomialFeatures(degree=2)\n",
    "poly.fit_transform(X)"
   ]
  },
  {
   "cell_type": "code",
   "execution_count": 83,
   "metadata": {},
   "outputs": [],
   "source": [
    "from sklearn.preprocessing import PolynomialFeatures\n",
    "from sklearn.linear_model import LinearRegression\n",
    "from sklearn.pipeline import Pipeline\n",
    "import numpy as np\n",
    "model = Pipeline([('poly', PolynomialFeatures(degree=3)),\n",
    "                  ('linear', LinearRegression(fit_intercept=False))])"
   ]
  },
  {
   "cell_type": "code",
   "execution_count": 84,
   "metadata": {},
   "outputs": [],
   "source": [
    "model = model.fit(X_train, y_train)"
   ]
  },
  {
   "cell_type": "code",
   "execution_count": 85,
   "metadata": {},
   "outputs": [
    {
     "data": {
      "text/plain": [
       "array([[34.01714206],\n",
       "       [ 1.30515808],\n",
       "       [-0.34382145],\n",
       "       ...,\n",
       "       [10.86801929],\n",
       "       [ 9.8269998 ],\n",
       "       [11.29867458]])"
      ]
     },
     "execution_count": 85,
     "metadata": {},
     "output_type": "execute_result"
    }
   ],
   "source": [
    "model.predict(X_test)"
   ]
  },
  {
   "cell_type": "code",
   "execution_count": 86,
   "metadata": {},
   "outputs": [
    {
     "data": {
      "text/plain": [
       "-0.3319031893728721"
      ]
     },
     "execution_count": 86,
     "metadata": {},
     "output_type": "execute_result"
    }
   ],
   "source": [
    "model.score(X_test, y_test)"
   ]
  },
  {
   "cell_type": "code",
   "execution_count": 87,
   "metadata": {},
   "outputs": [
    {
     "data": {
      "text/plain": [
       "array([7.85892229])"
      ]
     },
     "execution_count": 87,
     "metadata": {},
     "output_type": "execute_result"
    }
   ],
   "source": [
    "from sklearn import linear_model\n",
    "reg = linear_model.Ridge(alpha=.5)\n",
    "reg.fit(X_train, y_train) \n",
    "\n",
    "\n",
    "reg.coef_\n",
    "\n",
    "reg.intercept_"
   ]
  },
  {
   "cell_type": "code",
   "execution_count": 88,
   "metadata": {},
   "outputs": [
    {
     "data": {
      "text/plain": [
       "0.13385830696521162"
      ]
     },
     "execution_count": 88,
     "metadata": {},
     "output_type": "execute_result"
    }
   ],
   "source": [
    "reg.score(X_test, y_test)"
   ]
  },
  {
   "cell_type": "code",
   "execution_count": 89,
   "metadata": {},
   "outputs": [
    {
     "data": {
      "text/plain": [
       "SVC(C=1.0, cache_size=200, class_weight=None, coef0=0.0,\n",
       "  decision_function_shape='ovr', degree=3, gamma='scale', kernel='rbf',\n",
       "  max_iter=-1, probability=False, random_state=None, shrinking=True,\n",
       "  tol=0.001, verbose=False)"
      ]
     },
     "execution_count": 89,
     "metadata": {},
     "output_type": "execute_result"
    }
   ],
   "source": [
    "from sklearn import svm\n",
    "\n",
    "clf = svm.SVC(gamma='scale')\n",
    "clf.fit(X_train, y_train) "
   ]
  },
  {
   "cell_type": "code",
   "execution_count": 90,
   "metadata": {},
   "outputs": [
    {
     "data": {
      "text/plain": [
       "0.490840176879343"
      ]
     },
     "execution_count": 90,
     "metadata": {},
     "output_type": "execute_result"
    }
   ],
   "source": [
    "clf.score(X_test, y_test, sample_weight=None)"
   ]
  },
  {
   "cell_type": "code",
   "execution_count": null,
   "metadata": {},
   "outputs": [],
   "source": []
  },
  {
   "cell_type": "code",
   "execution_count": null,
   "metadata": {},
   "outputs": [],
   "source": []
  }
 ],
 "metadata": {
  "kernelspec": {
   "display_name": "Python 3",
   "language": "python",
   "name": "python3"
  },
  "language_info": {
   "codemirror_mode": {
    "name": "ipython",
    "version": 2
   },
   "file_extension": ".py",
   "mimetype": "text/x-python",
   "name": "python",
   "nbconvert_exporter": "python",
   "pygments_lexer": "ipython2",
   "version": "2.7.16"
  }
 },
 "nbformat": 4,
 "nbformat_minor": 2
}
